{
  "nbformat": 4,
  "nbformat_minor": 0,
  "metadata": {
    "colab": {
      "name": "Pytorch_Simple_AE_Classification_MNIST.ipynb",
      "provenance": [],
      "collapsed_sections": [],
      "authorship_tag": "ABX9TyO89qpSUTNyn6AiwH2SMa6R",
      "include_colab_link": true
    },
    "kernelspec": {
      "name": "python3",
      "display_name": "Python 3"
    },
    "accelerator": "GPU",
    "widgets": {
      "application/vnd.jupyter.widget-state+json": {
        "d0e49bd4474f4d548a5593dfe364ca60": {
          "model_module": "@jupyter-widgets/controls",
          "model_name": "HBoxModel",
          "state": {
            "_view_name": "HBoxView",
            "_dom_classes": [],
            "_model_name": "HBoxModel",
            "_view_module": "@jupyter-widgets/controls",
            "_model_module_version": "1.5.0",
            "_view_count": null,
            "_view_module_version": "1.5.0",
            "box_style": "",
            "layout": "IPY_MODEL_f66230382de94f658a665e3d65acc88a",
            "_model_module": "@jupyter-widgets/controls",
            "children": [
              "IPY_MODEL_79be7376cbbe4d7e82d612ab32d33964",
              "IPY_MODEL_f598203037fd41c4abbd4057d1ed2eae"
            ]
          }
        },
        "f66230382de94f658a665e3d65acc88a": {
          "model_module": "@jupyter-widgets/base",
          "model_name": "LayoutModel",
          "state": {
            "_view_name": "LayoutView",
            "grid_template_rows": null,
            "right": null,
            "justify_content": null,
            "_view_module": "@jupyter-widgets/base",
            "overflow": null,
            "_model_module_version": "1.2.0",
            "_view_count": null,
            "flex_flow": null,
            "width": null,
            "min_width": null,
            "border": null,
            "align_items": null,
            "bottom": null,
            "_model_module": "@jupyter-widgets/base",
            "top": null,
            "grid_column": null,
            "overflow_y": null,
            "overflow_x": null,
            "grid_auto_flow": null,
            "grid_area": null,
            "grid_template_columns": null,
            "flex": null,
            "_model_name": "LayoutModel",
            "justify_items": null,
            "grid_row": null,
            "max_height": null,
            "align_content": null,
            "visibility": null,
            "align_self": null,
            "height": null,
            "min_height": null,
            "padding": null,
            "grid_auto_rows": null,
            "grid_gap": null,
            "max_width": null,
            "order": null,
            "_view_module_version": "1.2.0",
            "grid_template_areas": null,
            "object_position": null,
            "object_fit": null,
            "grid_auto_columns": null,
            "margin": null,
            "display": null,
            "left": null
          }
        },
        "79be7376cbbe4d7e82d612ab32d33964": {
          "model_module": "@jupyter-widgets/controls",
          "model_name": "FloatProgressModel",
          "state": {
            "_view_name": "ProgressView",
            "style": "IPY_MODEL_0834ca8a6d6047bd878a21b917b281c3",
            "_dom_classes": [],
            "description": "",
            "_model_name": "FloatProgressModel",
            "bar_style": "info",
            "max": 1,
            "_view_module": "@jupyter-widgets/controls",
            "_model_module_version": "1.5.0",
            "value": 1,
            "_view_count": null,
            "_view_module_version": "1.5.0",
            "orientation": "horizontal",
            "min": 0,
            "description_tooltip": null,
            "_model_module": "@jupyter-widgets/controls",
            "layout": "IPY_MODEL_709b38d145ba4b4aac577a55607e3f48"
          }
        },
        "f598203037fd41c4abbd4057d1ed2eae": {
          "model_module": "@jupyter-widgets/controls",
          "model_name": "HTMLModel",
          "state": {
            "_view_name": "HTMLView",
            "style": "IPY_MODEL_c28a65253d00470991bb08e12da15bfe",
            "_dom_classes": [],
            "description": "",
            "_model_name": "HTMLModel",
            "placeholder": "​",
            "_view_module": "@jupyter-widgets/controls",
            "_model_module_version": "1.5.0",
            "value": " 9920512/? [00:20&lt;00:00, 1396913.34it/s]",
            "_view_count": null,
            "_view_module_version": "1.5.0",
            "description_tooltip": null,
            "_model_module": "@jupyter-widgets/controls",
            "layout": "IPY_MODEL_2a43d2ed126a4150a6656d20e278bdea"
          }
        },
        "0834ca8a6d6047bd878a21b917b281c3": {
          "model_module": "@jupyter-widgets/controls",
          "model_name": "ProgressStyleModel",
          "state": {
            "_view_name": "StyleView",
            "_model_name": "ProgressStyleModel",
            "description_width": "initial",
            "_view_module": "@jupyter-widgets/base",
            "_model_module_version": "1.5.0",
            "_view_count": null,
            "_view_module_version": "1.2.0",
            "bar_color": null,
            "_model_module": "@jupyter-widgets/controls"
          }
        },
        "709b38d145ba4b4aac577a55607e3f48": {
          "model_module": "@jupyter-widgets/base",
          "model_name": "LayoutModel",
          "state": {
            "_view_name": "LayoutView",
            "grid_template_rows": null,
            "right": null,
            "justify_content": null,
            "_view_module": "@jupyter-widgets/base",
            "overflow": null,
            "_model_module_version": "1.2.0",
            "_view_count": null,
            "flex_flow": null,
            "width": null,
            "min_width": null,
            "border": null,
            "align_items": null,
            "bottom": null,
            "_model_module": "@jupyter-widgets/base",
            "top": null,
            "grid_column": null,
            "overflow_y": null,
            "overflow_x": null,
            "grid_auto_flow": null,
            "grid_area": null,
            "grid_template_columns": null,
            "flex": null,
            "_model_name": "LayoutModel",
            "justify_items": null,
            "grid_row": null,
            "max_height": null,
            "align_content": null,
            "visibility": null,
            "align_self": null,
            "height": null,
            "min_height": null,
            "padding": null,
            "grid_auto_rows": null,
            "grid_gap": null,
            "max_width": null,
            "order": null,
            "_view_module_version": "1.2.0",
            "grid_template_areas": null,
            "object_position": null,
            "object_fit": null,
            "grid_auto_columns": null,
            "margin": null,
            "display": null,
            "left": null
          }
        },
        "c28a65253d00470991bb08e12da15bfe": {
          "model_module": "@jupyter-widgets/controls",
          "model_name": "DescriptionStyleModel",
          "state": {
            "_view_name": "StyleView",
            "_model_name": "DescriptionStyleModel",
            "description_width": "",
            "_view_module": "@jupyter-widgets/base",
            "_model_module_version": "1.5.0",
            "_view_count": null,
            "_view_module_version": "1.2.0",
            "_model_module": "@jupyter-widgets/controls"
          }
        },
        "2a43d2ed126a4150a6656d20e278bdea": {
          "model_module": "@jupyter-widgets/base",
          "model_name": "LayoutModel",
          "state": {
            "_view_name": "LayoutView",
            "grid_template_rows": null,
            "right": null,
            "justify_content": null,
            "_view_module": "@jupyter-widgets/base",
            "overflow": null,
            "_model_module_version": "1.2.0",
            "_view_count": null,
            "flex_flow": null,
            "width": null,
            "min_width": null,
            "border": null,
            "align_items": null,
            "bottom": null,
            "_model_module": "@jupyter-widgets/base",
            "top": null,
            "grid_column": null,
            "overflow_y": null,
            "overflow_x": null,
            "grid_auto_flow": null,
            "grid_area": null,
            "grid_template_columns": null,
            "flex": null,
            "_model_name": "LayoutModel",
            "justify_items": null,
            "grid_row": null,
            "max_height": null,
            "align_content": null,
            "visibility": null,
            "align_self": null,
            "height": null,
            "min_height": null,
            "padding": null,
            "grid_auto_rows": null,
            "grid_gap": null,
            "max_width": null,
            "order": null,
            "_view_module_version": "1.2.0",
            "grid_template_areas": null,
            "object_position": null,
            "object_fit": null,
            "grid_auto_columns": null,
            "margin": null,
            "display": null,
            "left": null
          }
        },
        "f0b86f9f137b4c1f9765b70598e8baee": {
          "model_module": "@jupyter-widgets/controls",
          "model_name": "HBoxModel",
          "state": {
            "_view_name": "HBoxView",
            "_dom_classes": [],
            "_model_name": "HBoxModel",
            "_view_module": "@jupyter-widgets/controls",
            "_model_module_version": "1.5.0",
            "_view_count": null,
            "_view_module_version": "1.5.0",
            "box_style": "",
            "layout": "IPY_MODEL_acca67a7a66e4f79b5d0481990254e2e",
            "_model_module": "@jupyter-widgets/controls",
            "children": [
              "IPY_MODEL_c73a7bb6a7ab4712a7d621f2695aba85",
              "IPY_MODEL_fd67411c5fb1451ba4f9f8eef53292b9"
            ]
          }
        },
        "acca67a7a66e4f79b5d0481990254e2e": {
          "model_module": "@jupyter-widgets/base",
          "model_name": "LayoutModel",
          "state": {
            "_view_name": "LayoutView",
            "grid_template_rows": null,
            "right": null,
            "justify_content": null,
            "_view_module": "@jupyter-widgets/base",
            "overflow": null,
            "_model_module_version": "1.2.0",
            "_view_count": null,
            "flex_flow": null,
            "width": null,
            "min_width": null,
            "border": null,
            "align_items": null,
            "bottom": null,
            "_model_module": "@jupyter-widgets/base",
            "top": null,
            "grid_column": null,
            "overflow_y": null,
            "overflow_x": null,
            "grid_auto_flow": null,
            "grid_area": null,
            "grid_template_columns": null,
            "flex": null,
            "_model_name": "LayoutModel",
            "justify_items": null,
            "grid_row": null,
            "max_height": null,
            "align_content": null,
            "visibility": null,
            "align_self": null,
            "height": null,
            "min_height": null,
            "padding": null,
            "grid_auto_rows": null,
            "grid_gap": null,
            "max_width": null,
            "order": null,
            "_view_module_version": "1.2.0",
            "grid_template_areas": null,
            "object_position": null,
            "object_fit": null,
            "grid_auto_columns": null,
            "margin": null,
            "display": null,
            "left": null
          }
        },
        "c73a7bb6a7ab4712a7d621f2695aba85": {
          "model_module": "@jupyter-widgets/controls",
          "model_name": "FloatProgressModel",
          "state": {
            "_view_name": "ProgressView",
            "style": "IPY_MODEL_ad4d7d83cd1c4a65bd0c199154e85632",
            "_dom_classes": [],
            "description": "  0%",
            "_model_name": "FloatProgressModel",
            "bar_style": "info",
            "max": 1,
            "_view_module": "@jupyter-widgets/controls",
            "_model_module_version": "1.5.0",
            "value": 0,
            "_view_count": null,
            "_view_module_version": "1.5.0",
            "orientation": "horizontal",
            "min": 0,
            "description_tooltip": null,
            "_model_module": "@jupyter-widgets/controls",
            "layout": "IPY_MODEL_d8b0e565f74e45009daba0ae703bf3f6"
          }
        },
        "fd67411c5fb1451ba4f9f8eef53292b9": {
          "model_module": "@jupyter-widgets/controls",
          "model_name": "HTMLModel",
          "state": {
            "_view_name": "HTMLView",
            "style": "IPY_MODEL_b647af15daab4cad89adcb0a653c0ff5",
            "_dom_classes": [],
            "description": "",
            "_model_name": "HTMLModel",
            "placeholder": "​",
            "_view_module": "@jupyter-widgets/controls",
            "_model_module_version": "1.5.0",
            "value": " 0/28881 [00:00&lt;?, ?it/s]",
            "_view_count": null,
            "_view_module_version": "1.5.0",
            "description_tooltip": null,
            "_model_module": "@jupyter-widgets/controls",
            "layout": "IPY_MODEL_29d3caec3f144b099850f37d7a58601d"
          }
        },
        "ad4d7d83cd1c4a65bd0c199154e85632": {
          "model_module": "@jupyter-widgets/controls",
          "model_name": "ProgressStyleModel",
          "state": {
            "_view_name": "StyleView",
            "_model_name": "ProgressStyleModel",
            "description_width": "initial",
            "_view_module": "@jupyter-widgets/base",
            "_model_module_version": "1.5.0",
            "_view_count": null,
            "_view_module_version": "1.2.0",
            "bar_color": null,
            "_model_module": "@jupyter-widgets/controls"
          }
        },
        "d8b0e565f74e45009daba0ae703bf3f6": {
          "model_module": "@jupyter-widgets/base",
          "model_name": "LayoutModel",
          "state": {
            "_view_name": "LayoutView",
            "grid_template_rows": null,
            "right": null,
            "justify_content": null,
            "_view_module": "@jupyter-widgets/base",
            "overflow": null,
            "_model_module_version": "1.2.0",
            "_view_count": null,
            "flex_flow": null,
            "width": null,
            "min_width": null,
            "border": null,
            "align_items": null,
            "bottom": null,
            "_model_module": "@jupyter-widgets/base",
            "top": null,
            "grid_column": null,
            "overflow_y": null,
            "overflow_x": null,
            "grid_auto_flow": null,
            "grid_area": null,
            "grid_template_columns": null,
            "flex": null,
            "_model_name": "LayoutModel",
            "justify_items": null,
            "grid_row": null,
            "max_height": null,
            "align_content": null,
            "visibility": null,
            "align_self": null,
            "height": null,
            "min_height": null,
            "padding": null,
            "grid_auto_rows": null,
            "grid_gap": null,
            "max_width": null,
            "order": null,
            "_view_module_version": "1.2.0",
            "grid_template_areas": null,
            "object_position": null,
            "object_fit": null,
            "grid_auto_columns": null,
            "margin": null,
            "display": null,
            "left": null
          }
        },
        "b647af15daab4cad89adcb0a653c0ff5": {
          "model_module": "@jupyter-widgets/controls",
          "model_name": "DescriptionStyleModel",
          "state": {
            "_view_name": "StyleView",
            "_model_name": "DescriptionStyleModel",
            "description_width": "",
            "_view_module": "@jupyter-widgets/base",
            "_model_module_version": "1.5.0",
            "_view_count": null,
            "_view_module_version": "1.2.0",
            "_model_module": "@jupyter-widgets/controls"
          }
        },
        "29d3caec3f144b099850f37d7a58601d": {
          "model_module": "@jupyter-widgets/base",
          "model_name": "LayoutModel",
          "state": {
            "_view_name": "LayoutView",
            "grid_template_rows": null,
            "right": null,
            "justify_content": null,
            "_view_module": "@jupyter-widgets/base",
            "overflow": null,
            "_model_module_version": "1.2.0",
            "_view_count": null,
            "flex_flow": null,
            "width": null,
            "min_width": null,
            "border": null,
            "align_items": null,
            "bottom": null,
            "_model_module": "@jupyter-widgets/base",
            "top": null,
            "grid_column": null,
            "overflow_y": null,
            "overflow_x": null,
            "grid_auto_flow": null,
            "grid_area": null,
            "grid_template_columns": null,
            "flex": null,
            "_model_name": "LayoutModel",
            "justify_items": null,
            "grid_row": null,
            "max_height": null,
            "align_content": null,
            "visibility": null,
            "align_self": null,
            "height": null,
            "min_height": null,
            "padding": null,
            "grid_auto_rows": null,
            "grid_gap": null,
            "max_width": null,
            "order": null,
            "_view_module_version": "1.2.0",
            "grid_template_areas": null,
            "object_position": null,
            "object_fit": null,
            "grid_auto_columns": null,
            "margin": null,
            "display": null,
            "left": null
          }
        },
        "e6748809879f41b78552bc478f38a7b8": {
          "model_module": "@jupyter-widgets/controls",
          "model_name": "HBoxModel",
          "state": {
            "_view_name": "HBoxView",
            "_dom_classes": [],
            "_model_name": "HBoxModel",
            "_view_module": "@jupyter-widgets/controls",
            "_model_module_version": "1.5.0",
            "_view_count": null,
            "_view_module_version": "1.5.0",
            "box_style": "",
            "layout": "IPY_MODEL_16b0e12cea6f4c33ab70f022e1cdb7ee",
            "_model_module": "@jupyter-widgets/controls",
            "children": [
              "IPY_MODEL_01ce7c1cfdcb44c78f9c1517931e12ed",
              "IPY_MODEL_bd4b0d0eb2cb4b01934d862009182d7f"
            ]
          }
        },
        "16b0e12cea6f4c33ab70f022e1cdb7ee": {
          "model_module": "@jupyter-widgets/base",
          "model_name": "LayoutModel",
          "state": {
            "_view_name": "LayoutView",
            "grid_template_rows": null,
            "right": null,
            "justify_content": null,
            "_view_module": "@jupyter-widgets/base",
            "overflow": null,
            "_model_module_version": "1.2.0",
            "_view_count": null,
            "flex_flow": null,
            "width": null,
            "min_width": null,
            "border": null,
            "align_items": null,
            "bottom": null,
            "_model_module": "@jupyter-widgets/base",
            "top": null,
            "grid_column": null,
            "overflow_y": null,
            "overflow_x": null,
            "grid_auto_flow": null,
            "grid_area": null,
            "grid_template_columns": null,
            "flex": null,
            "_model_name": "LayoutModel",
            "justify_items": null,
            "grid_row": null,
            "max_height": null,
            "align_content": null,
            "visibility": null,
            "align_self": null,
            "height": null,
            "min_height": null,
            "padding": null,
            "grid_auto_rows": null,
            "grid_gap": null,
            "max_width": null,
            "order": null,
            "_view_module_version": "1.2.0",
            "grid_template_areas": null,
            "object_position": null,
            "object_fit": null,
            "grid_auto_columns": null,
            "margin": null,
            "display": null,
            "left": null
          }
        },
        "01ce7c1cfdcb44c78f9c1517931e12ed": {
          "model_module": "@jupyter-widgets/controls",
          "model_name": "FloatProgressModel",
          "state": {
            "_view_name": "ProgressView",
            "style": "IPY_MODEL_127f05cc763847c4811f54f92aa6890a",
            "_dom_classes": [],
            "description": "",
            "_model_name": "FloatProgressModel",
            "bar_style": "success",
            "max": 1,
            "_view_module": "@jupyter-widgets/controls",
            "_model_module_version": "1.5.0",
            "value": 1,
            "_view_count": null,
            "_view_module_version": "1.5.0",
            "orientation": "horizontal",
            "min": 0,
            "description_tooltip": null,
            "_model_module": "@jupyter-widgets/controls",
            "layout": "IPY_MODEL_ad4c2cf3c05641f3ad738bdb3a8975df"
          }
        },
        "bd4b0d0eb2cb4b01934d862009182d7f": {
          "model_module": "@jupyter-widgets/controls",
          "model_name": "HTMLModel",
          "state": {
            "_view_name": "HTMLView",
            "style": "IPY_MODEL_6618a66cca84475cb0f922f48a8092da",
            "_dom_classes": [],
            "description": "",
            "_model_name": "HTMLModel",
            "placeholder": "​",
            "_view_module": "@jupyter-widgets/controls",
            "_model_module_version": "1.5.0",
            "value": " 1654784/? [00:01&lt;00:00, 1438534.80it/s]",
            "_view_count": null,
            "_view_module_version": "1.5.0",
            "description_tooltip": null,
            "_model_module": "@jupyter-widgets/controls",
            "layout": "IPY_MODEL_da0603a9886941d5bb5de33d5d089ccd"
          }
        },
        "127f05cc763847c4811f54f92aa6890a": {
          "model_module": "@jupyter-widgets/controls",
          "model_name": "ProgressStyleModel",
          "state": {
            "_view_name": "StyleView",
            "_model_name": "ProgressStyleModel",
            "description_width": "initial",
            "_view_module": "@jupyter-widgets/base",
            "_model_module_version": "1.5.0",
            "_view_count": null,
            "_view_module_version": "1.2.0",
            "bar_color": null,
            "_model_module": "@jupyter-widgets/controls"
          }
        },
        "ad4c2cf3c05641f3ad738bdb3a8975df": {
          "model_module": "@jupyter-widgets/base",
          "model_name": "LayoutModel",
          "state": {
            "_view_name": "LayoutView",
            "grid_template_rows": null,
            "right": null,
            "justify_content": null,
            "_view_module": "@jupyter-widgets/base",
            "overflow": null,
            "_model_module_version": "1.2.0",
            "_view_count": null,
            "flex_flow": null,
            "width": null,
            "min_width": null,
            "border": null,
            "align_items": null,
            "bottom": null,
            "_model_module": "@jupyter-widgets/base",
            "top": null,
            "grid_column": null,
            "overflow_y": null,
            "overflow_x": null,
            "grid_auto_flow": null,
            "grid_area": null,
            "grid_template_columns": null,
            "flex": null,
            "_model_name": "LayoutModel",
            "justify_items": null,
            "grid_row": null,
            "max_height": null,
            "align_content": null,
            "visibility": null,
            "align_self": null,
            "height": null,
            "min_height": null,
            "padding": null,
            "grid_auto_rows": null,
            "grid_gap": null,
            "max_width": null,
            "order": null,
            "_view_module_version": "1.2.0",
            "grid_template_areas": null,
            "object_position": null,
            "object_fit": null,
            "grid_auto_columns": null,
            "margin": null,
            "display": null,
            "left": null
          }
        },
        "6618a66cca84475cb0f922f48a8092da": {
          "model_module": "@jupyter-widgets/controls",
          "model_name": "DescriptionStyleModel",
          "state": {
            "_view_name": "StyleView",
            "_model_name": "DescriptionStyleModel",
            "description_width": "",
            "_view_module": "@jupyter-widgets/base",
            "_model_module_version": "1.5.0",
            "_view_count": null,
            "_view_module_version": "1.2.0",
            "_model_module": "@jupyter-widgets/controls"
          }
        },
        "da0603a9886941d5bb5de33d5d089ccd": {
          "model_module": "@jupyter-widgets/base",
          "model_name": "LayoutModel",
          "state": {
            "_view_name": "LayoutView",
            "grid_template_rows": null,
            "right": null,
            "justify_content": null,
            "_view_module": "@jupyter-widgets/base",
            "overflow": null,
            "_model_module_version": "1.2.0",
            "_view_count": null,
            "flex_flow": null,
            "width": null,
            "min_width": null,
            "border": null,
            "align_items": null,
            "bottom": null,
            "_model_module": "@jupyter-widgets/base",
            "top": null,
            "grid_column": null,
            "overflow_y": null,
            "overflow_x": null,
            "grid_auto_flow": null,
            "grid_area": null,
            "grid_template_columns": null,
            "flex": null,
            "_model_name": "LayoutModel",
            "justify_items": null,
            "grid_row": null,
            "max_height": null,
            "align_content": null,
            "visibility": null,
            "align_self": null,
            "height": null,
            "min_height": null,
            "padding": null,
            "grid_auto_rows": null,
            "grid_gap": null,
            "max_width": null,
            "order": null,
            "_view_module_version": "1.2.0",
            "grid_template_areas": null,
            "object_position": null,
            "object_fit": null,
            "grid_auto_columns": null,
            "margin": null,
            "display": null,
            "left": null
          }
        },
        "969fcfc277504a37b741d6987f7e39a6": {
          "model_module": "@jupyter-widgets/controls",
          "model_name": "HBoxModel",
          "state": {
            "_view_name": "HBoxView",
            "_dom_classes": [],
            "_model_name": "HBoxModel",
            "_view_module": "@jupyter-widgets/controls",
            "_model_module_version": "1.5.0",
            "_view_count": null,
            "_view_module_version": "1.5.0",
            "box_style": "",
            "layout": "IPY_MODEL_b5b02646d2bb4f81a8294b84bcb6176f",
            "_model_module": "@jupyter-widgets/controls",
            "children": [
              "IPY_MODEL_a81e8102032142adbdcfca96925e8e85",
              "IPY_MODEL_8ae418c303194cdeb8124bb42ace6906"
            ]
          }
        },
        "b5b02646d2bb4f81a8294b84bcb6176f": {
          "model_module": "@jupyter-widgets/base",
          "model_name": "LayoutModel",
          "state": {
            "_view_name": "LayoutView",
            "grid_template_rows": null,
            "right": null,
            "justify_content": null,
            "_view_module": "@jupyter-widgets/base",
            "overflow": null,
            "_model_module_version": "1.2.0",
            "_view_count": null,
            "flex_flow": null,
            "width": null,
            "min_width": null,
            "border": null,
            "align_items": null,
            "bottom": null,
            "_model_module": "@jupyter-widgets/base",
            "top": null,
            "grid_column": null,
            "overflow_y": null,
            "overflow_x": null,
            "grid_auto_flow": null,
            "grid_area": null,
            "grid_template_columns": null,
            "flex": null,
            "_model_name": "LayoutModel",
            "justify_items": null,
            "grid_row": null,
            "max_height": null,
            "align_content": null,
            "visibility": null,
            "align_self": null,
            "height": null,
            "min_height": null,
            "padding": null,
            "grid_auto_rows": null,
            "grid_gap": null,
            "max_width": null,
            "order": null,
            "_view_module_version": "1.2.0",
            "grid_template_areas": null,
            "object_position": null,
            "object_fit": null,
            "grid_auto_columns": null,
            "margin": null,
            "display": null,
            "left": null
          }
        },
        "a81e8102032142adbdcfca96925e8e85": {
          "model_module": "@jupyter-widgets/controls",
          "model_name": "FloatProgressModel",
          "state": {
            "_view_name": "ProgressView",
            "style": "IPY_MODEL_3ff3591125494336a5b480ca19014bef",
            "_dom_classes": [],
            "description": "",
            "_model_name": "FloatProgressModel",
            "bar_style": "success",
            "max": 1,
            "_view_module": "@jupyter-widgets/controls",
            "_model_module_version": "1.5.0",
            "value": 1,
            "_view_count": null,
            "_view_module_version": "1.5.0",
            "orientation": "horizontal",
            "min": 0,
            "description_tooltip": null,
            "_model_module": "@jupyter-widgets/controls",
            "layout": "IPY_MODEL_cf3e7b0d39384a7ea378c0b6fd092331"
          }
        },
        "8ae418c303194cdeb8124bb42ace6906": {
          "model_module": "@jupyter-widgets/controls",
          "model_name": "HTMLModel",
          "state": {
            "_view_name": "HTMLView",
            "style": "IPY_MODEL_c383aab26fba4ec3937398afc3965a0a",
            "_dom_classes": [],
            "description": "",
            "_model_name": "HTMLModel",
            "placeholder": "​",
            "_view_module": "@jupyter-widgets/controls",
            "_model_module_version": "1.5.0",
            "value": " 8192/? [00:00&lt;00:00, 17943.51it/s]",
            "_view_count": null,
            "_view_module_version": "1.5.0",
            "description_tooltip": null,
            "_model_module": "@jupyter-widgets/controls",
            "layout": "IPY_MODEL_ac7a73b77d064b8b933941a392eac20f"
          }
        },
        "3ff3591125494336a5b480ca19014bef": {
          "model_module": "@jupyter-widgets/controls",
          "model_name": "ProgressStyleModel",
          "state": {
            "_view_name": "StyleView",
            "_model_name": "ProgressStyleModel",
            "description_width": "initial",
            "_view_module": "@jupyter-widgets/base",
            "_model_module_version": "1.5.0",
            "_view_count": null,
            "_view_module_version": "1.2.0",
            "bar_color": null,
            "_model_module": "@jupyter-widgets/controls"
          }
        },
        "cf3e7b0d39384a7ea378c0b6fd092331": {
          "model_module": "@jupyter-widgets/base",
          "model_name": "LayoutModel",
          "state": {
            "_view_name": "LayoutView",
            "grid_template_rows": null,
            "right": null,
            "justify_content": null,
            "_view_module": "@jupyter-widgets/base",
            "overflow": null,
            "_model_module_version": "1.2.0",
            "_view_count": null,
            "flex_flow": null,
            "width": null,
            "min_width": null,
            "border": null,
            "align_items": null,
            "bottom": null,
            "_model_module": "@jupyter-widgets/base",
            "top": null,
            "grid_column": null,
            "overflow_y": null,
            "overflow_x": null,
            "grid_auto_flow": null,
            "grid_area": null,
            "grid_template_columns": null,
            "flex": null,
            "_model_name": "LayoutModel",
            "justify_items": null,
            "grid_row": null,
            "max_height": null,
            "align_content": null,
            "visibility": null,
            "align_self": null,
            "height": null,
            "min_height": null,
            "padding": null,
            "grid_auto_rows": null,
            "grid_gap": null,
            "max_width": null,
            "order": null,
            "_view_module_version": "1.2.0",
            "grid_template_areas": null,
            "object_position": null,
            "object_fit": null,
            "grid_auto_columns": null,
            "margin": null,
            "display": null,
            "left": null
          }
        },
        "c383aab26fba4ec3937398afc3965a0a": {
          "model_module": "@jupyter-widgets/controls",
          "model_name": "DescriptionStyleModel",
          "state": {
            "_view_name": "StyleView",
            "_model_name": "DescriptionStyleModel",
            "description_width": "",
            "_view_module": "@jupyter-widgets/base",
            "_model_module_version": "1.5.0",
            "_view_count": null,
            "_view_module_version": "1.2.0",
            "_model_module": "@jupyter-widgets/controls"
          }
        },
        "ac7a73b77d064b8b933941a392eac20f": {
          "model_module": "@jupyter-widgets/base",
          "model_name": "LayoutModel",
          "state": {
            "_view_name": "LayoutView",
            "grid_template_rows": null,
            "right": null,
            "justify_content": null,
            "_view_module": "@jupyter-widgets/base",
            "overflow": null,
            "_model_module_version": "1.2.0",
            "_view_count": null,
            "flex_flow": null,
            "width": null,
            "min_width": null,
            "border": null,
            "align_items": null,
            "bottom": null,
            "_model_module": "@jupyter-widgets/base",
            "top": null,
            "grid_column": null,
            "overflow_y": null,
            "overflow_x": null,
            "grid_auto_flow": null,
            "grid_area": null,
            "grid_template_columns": null,
            "flex": null,
            "_model_name": "LayoutModel",
            "justify_items": null,
            "grid_row": null,
            "max_height": null,
            "align_content": null,
            "visibility": null,
            "align_self": null,
            "height": null,
            "min_height": null,
            "padding": null,
            "grid_auto_rows": null,
            "grid_gap": null,
            "max_width": null,
            "order": null,
            "_view_module_version": "1.2.0",
            "grid_template_areas": null,
            "object_position": null,
            "object_fit": null,
            "grid_auto_columns": null,
            "margin": null,
            "display": null,
            "left": null
          }
        }
      }
    }
  },
  "cells": [
    {
      "cell_type": "markdown",
      "metadata": {
        "id": "view-in-github",
        "colab_type": "text"
      },
      "source": [
        "<a href=\"https://colab.research.google.com/github/ArshT/Pytorch_Practice/blob/master/Pytorch_Simple_AE_Classification_MNIST.ipynb\" target=\"_parent\"><img src=\"https://colab.research.google.com/assets/colab-badge.svg\" alt=\"Open In Colab\"/></a>"
      ]
    },
    {
      "cell_type": "code",
      "metadata": {
        "id": "tkPrMSpWao3Q",
        "colab_type": "code",
        "colab": {}
      },
      "source": [
        "import torch\n",
        "import torchvision\n",
        "from torchvision.transforms import transforms\n",
        "import torch.nn as nn\n",
        "import torch.nn.functional as F\n",
        "import torch.optim as optim"
      ],
      "execution_count": 1,
      "outputs": []
    },
    {
      "cell_type": "code",
      "metadata": {
        "id": "-XizT7G9a5Bm",
        "colab_type": "code",
        "colab": {
          "base_uri": "https://localhost:8080/",
          "height": 378,
          "referenced_widgets": [
            "d0e49bd4474f4d548a5593dfe364ca60",
            "f66230382de94f658a665e3d65acc88a",
            "79be7376cbbe4d7e82d612ab32d33964",
            "f598203037fd41c4abbd4057d1ed2eae",
            "0834ca8a6d6047bd878a21b917b281c3",
            "709b38d145ba4b4aac577a55607e3f48",
            "c28a65253d00470991bb08e12da15bfe",
            "2a43d2ed126a4150a6656d20e278bdea",
            "f0b86f9f137b4c1f9765b70598e8baee",
            "acca67a7a66e4f79b5d0481990254e2e",
            "c73a7bb6a7ab4712a7d621f2695aba85",
            "fd67411c5fb1451ba4f9f8eef53292b9",
            "ad4d7d83cd1c4a65bd0c199154e85632",
            "d8b0e565f74e45009daba0ae703bf3f6",
            "b647af15daab4cad89adcb0a653c0ff5",
            "29d3caec3f144b099850f37d7a58601d",
            "e6748809879f41b78552bc478f38a7b8",
            "16b0e12cea6f4c33ab70f022e1cdb7ee",
            "01ce7c1cfdcb44c78f9c1517931e12ed",
            "bd4b0d0eb2cb4b01934d862009182d7f",
            "127f05cc763847c4811f54f92aa6890a",
            "ad4c2cf3c05641f3ad738bdb3a8975df",
            "6618a66cca84475cb0f922f48a8092da",
            "da0603a9886941d5bb5de33d5d089ccd",
            "969fcfc277504a37b741d6987f7e39a6",
            "b5b02646d2bb4f81a8294b84bcb6176f",
            "a81e8102032142adbdcfca96925e8e85",
            "8ae418c303194cdeb8124bb42ace6906",
            "3ff3591125494336a5b480ca19014bef",
            "cf3e7b0d39384a7ea378c0b6fd092331",
            "c383aab26fba4ec3937398afc3965a0a",
            "ac7a73b77d064b8b933941a392eac20f"
          ]
        },
        "outputId": "5066b5e4-413a-4137-bbb2-95632b4d9047"
      },
      "source": [
        "transform = transforms.Compose([transforms.ToTensor(),transforms.Normalize((0.5),(0.4))])\n",
        "\n",
        "trainset = torchvision.datasets.MNIST(root='./data', train=True,download=True, transform=transform)\n",
        "\n",
        "trainloader = torch.utils.data.DataLoader(trainset,batch_size = 32,shuffle=True,num_workers=2)\n",
        "\n",
        "testset = torchvision.datasets.MNIST(root='./data', train=False,download=True, transform=transform)\n",
        "\n",
        "testloader = torch.utils.data.DataLoader(testset,batch_size = 32,shuffle=True,num_workers=2)"
      ],
      "execution_count": 2,
      "outputs": [
        {
          "output_type": "stream",
          "text": [
            "Downloading http://yann.lecun.com/exdb/mnist/train-images-idx3-ubyte.gz to ./data/MNIST/raw/train-images-idx3-ubyte.gz\n"
          ],
          "name": "stdout"
        },
        {
          "output_type": "display_data",
          "data": {
            "application/vnd.jupyter.widget-view+json": {
              "model_id": "d0e49bd4474f4d548a5593dfe364ca60",
              "version_minor": 0,
              "version_major": 2
            },
            "text/plain": [
              "HBox(children=(FloatProgress(value=1.0, bar_style='info', max=1.0), HTML(value='')))"
            ]
          },
          "metadata": {
            "tags": []
          }
        },
        {
          "output_type": "stream",
          "text": [
            "Extracting ./data/MNIST/raw/train-images-idx3-ubyte.gz to ./data/MNIST/raw\n",
            "Downloading http://yann.lecun.com/exdb/mnist/train-labels-idx1-ubyte.gz to ./data/MNIST/raw/train-labels-idx1-ubyte.gz\n"
          ],
          "name": "stdout"
        },
        {
          "output_type": "display_data",
          "data": {
            "application/vnd.jupyter.widget-view+json": {
              "model_id": "f0b86f9f137b4c1f9765b70598e8baee",
              "version_minor": 0,
              "version_major": 2
            },
            "text/plain": [
              "HBox(children=(FloatProgress(value=1.0, bar_style='info', max=1.0), HTML(value='')))"
            ]
          },
          "metadata": {
            "tags": []
          }
        },
        {
          "output_type": "stream",
          "text": [
            "Extracting ./data/MNIST/raw/train-labels-idx1-ubyte.gz to ./data/MNIST/raw\n",
            "Downloading http://yann.lecun.com/exdb/mnist/t10k-images-idx3-ubyte.gz to ./data/MNIST/raw/t10k-images-idx3-ubyte.gz\n"
          ],
          "name": "stdout"
        },
        {
          "output_type": "display_data",
          "data": {
            "application/vnd.jupyter.widget-view+json": {
              "model_id": "e6748809879f41b78552bc478f38a7b8",
              "version_minor": 0,
              "version_major": 2
            },
            "text/plain": [
              "HBox(children=(FloatProgress(value=1.0, bar_style='info', max=1.0), HTML(value='')))"
            ]
          },
          "metadata": {
            "tags": []
          }
        },
        {
          "output_type": "stream",
          "text": [
            "Extracting ./data/MNIST/raw/t10k-images-idx3-ubyte.gz to ./data/MNIST/raw\n",
            "Downloading http://yann.lecun.com/exdb/mnist/t10k-labels-idx1-ubyte.gz to ./data/MNIST/raw/t10k-labels-idx1-ubyte.gz\n"
          ],
          "name": "stdout"
        },
        {
          "output_type": "display_data",
          "data": {
            "application/vnd.jupyter.widget-view+json": {
              "model_id": "969fcfc277504a37b741d6987f7e39a6",
              "version_minor": 0,
              "version_major": 2
            },
            "text/plain": [
              "HBox(children=(FloatProgress(value=1.0, bar_style='info', max=1.0), HTML(value='')))"
            ]
          },
          "metadata": {
            "tags": []
          }
        },
        {
          "output_type": "stream",
          "text": [
            "Extracting ./data/MNIST/raw/t10k-labels-idx1-ubyte.gz to ./data/MNIST/raw\n",
            "Processing...\n",
            "Done!\n"
          ],
          "name": "stdout"
        },
        {
          "output_type": "stream",
          "text": [
            "/usr/local/lib/python3.6/dist-packages/torchvision/datasets/mnist.py:469: UserWarning: The given NumPy array is not writeable, and PyTorch does not support non-writeable tensors. This means you can write to the underlying (supposedly non-writeable) NumPy array using the tensor. You may want to copy the array to protect its data or make it writeable before converting it to a tensor. This type of warning will be suppressed for the rest of this program. (Triggered internally at  /pytorch/torch/csrc/utils/tensor_numpy.cpp:141.)\n",
            "  return torch.from_numpy(parsed.astype(m[2], copy=False)).view(*s)\n"
          ],
          "name": "stderr"
        }
      ]
    },
    {
      "cell_type": "code",
      "metadata": {
        "id": "rW8ecDN0a9jT",
        "colab_type": "code",
        "colab": {
          "base_uri": "https://localhost:8080/",
          "height": 35
        },
        "outputId": "c1acd24c-156d-4e61-e8cf-de893c8abce7"
      },
      "source": [
        "USE_GPU = True\n",
        "\n",
        "if USE_GPU and torch.cuda.is_available():\n",
        "    print('using device: cuda')\n",
        "else:\n",
        "    print('using device: cpu')\n",
        "\n",
        "device = torch.device(\"cuda:0\" if USE_GPU else \"cpu\")"
      ],
      "execution_count": 3,
      "outputs": [
        {
          "output_type": "stream",
          "text": [
            "using device: cuda\n"
          ],
          "name": "stdout"
        }
      ]
    },
    {
      "cell_type": "code",
      "metadata": {
        "id": "R4fiJ9wWhZtE",
        "colab_type": "code",
        "colab": {
          "base_uri": "https://localhost:8080/",
          "height": 195
        },
        "outputId": "fb130fac-ea99-4ac5-bcc1-b75b7a2eca0b"
      },
      "source": [
        "class AutoEncoder(nn.Module):\n",
        "\n",
        "  def __init__(self):\n",
        "    super(AutoEncoder,self).__init__()\n",
        "\n",
        "    self.conv1 = nn.Conv2d(1,16,3,(2,2),padding=(1,1))\n",
        "    self.conv2 = nn.Conv2d(16,32,3,(2,2),padding=(1,1))\n",
        "    self.conv3 = nn.Conv2d(32, 64, 7)\n",
        "\n",
        "    self.t_conv1 = nn.ConvTranspose2d(64, 32, 7)\n",
        "    self.t_conv2 = nn.ConvTranspose2d(32,16,3,stride=2,padding=1,output_padding=1)\n",
        "    self.t_conv3 = nn.ConvTranspose2d(16, 1, 3, stride=2, padding=1, output_padding=1)\n",
        "  \n",
        "  def forward(self,x):\n",
        "\n",
        "    x = F.relu(self.conv1(x))\n",
        "    x = F.relu(self.conv2(x))\n",
        "    x = self.conv3(x)\n",
        "\n",
        "    x = F.relu(self.t_conv1(x))\n",
        "    x = F.relu(self.t_conv2(x))\n",
        "    x = F.sigmoid(self.t_conv3(x))\n",
        "\n",
        "    return x\n",
        "\n",
        "autoencoder = AutoEncoder()\n",
        "autoencoder = autoencoder.to('cuda')\n",
        "print(autoencoder)"
      ],
      "execution_count": 4,
      "outputs": [
        {
          "output_type": "stream",
          "text": [
            "\n",
            "\n",
            "AutoEncoder(\n",
            "  (conv1): Conv2d(1, 16, kernel_size=(3, 3), stride=(2, 2), padding=(1, 1))\n",
            "  (conv2): Conv2d(16, 32, kernel_size=(3, 3), stride=(2, 2), padding=(1, 1))\n",
            "  (conv3): Conv2d(32, 64, kernel_size=(7, 7), stride=(1, 1))\n",
            "  (t_conv1): ConvTranspose2d(64, 32, kernel_size=(7, 7), stride=(1, 1))\n",
            "  (t_conv2): ConvTranspose2d(32, 16, kernel_size=(3, 3), stride=(2, 2), padding=(1, 1), output_padding=(1, 1))\n",
            "  (t_conv3): ConvTranspose2d(16, 1, kernel_size=(3, 3), stride=(2, 2), padding=(1, 1), output_padding=(1, 1))\n",
            ")\n"
          ],
          "name": "stdout"
        }
      ]
    },
    {
      "cell_type": "code",
      "metadata": {
        "id": "6BMURYwGib7w",
        "colab_type": "code",
        "colab": {}
      },
      "source": [
        "criterion = nn.MSELoss()\n",
        "optimizer_AE = optimizer = torch.optim.Adam(autoencoder.parameters(),lr=0.001, weight_decay=1e-5)"
      ],
      "execution_count": 5,
      "outputs": []
    },
    {
      "cell_type": "code",
      "metadata": {
        "id": "BZBkwpb2VfJl",
        "colab_type": "code",
        "colab": {}
      },
      "source": [
        "def val_loss(dataloader,criterion):\n",
        "\n",
        "  I = 0\n",
        "  total_loss = 0.0\n",
        "\n",
        "  for data in dataloader:\n",
        "    I += 1\n",
        "    \n",
        "    images,l = data\n",
        "    images = images.to(device)\n",
        "\n",
        "    out = autoencoder(images)\n",
        "\n",
        "    loss = criterion(out,images)\n",
        "    total_loss += loss\n",
        "\n",
        "  avg_loss = total_loss / I\n",
        "\n",
        "  return avg_loss"
      ],
      "execution_count": 6,
      "outputs": []
    },
    {
      "cell_type": "code",
      "metadata": {
        "id": "5nt9IYLTSp-D",
        "colab_type": "code",
        "colab": {
          "base_uri": "https://localhost:8080/",
          "height": 1000
        },
        "outputId": "4fd800d9-bdfc-4c5c-f082-6846537065d6"
      },
      "source": [
        "Check = []\n",
        "\n",
        "for epoch in range(20):\n",
        "  print(\"epoch\",epoch+1)\n",
        "\n",
        "  running_loss = 0.0\n",
        "  for i,data in enumerate(trainloader,0):\n",
        "\n",
        "    inputs,labels = data\n",
        "\n",
        "    inputs = inputs.to(device)\n",
        "    labels = labels.to(device)\n",
        "\n",
        "    optimizer_AE.zero_grad()\n",
        "\n",
        "    outputs = autoencoder(inputs)\n",
        "    \n",
        "    loss = criterion(outputs, inputs)\n",
        "\n",
        "    loss.backward()\n",
        "\n",
        "    optimizer_AE.step()\n",
        "\n",
        "    running_loss += loss.item()\n",
        "    \n",
        "    \n",
        "    if i % 300 == 299:    \n",
        "      print('[%d, %5d] loss: %.3f' %(epoch + 1, i + 1, running_loss / 300))\n",
        "      running_loss = 0.0\n",
        "  \n",
        "  Check.append((epoch,inputs,outputs))\n",
        "  v_loss = val_loss(testloader,criterion)\n",
        "\n",
        "  print(\"Val_Loss:\",v_loss)\n",
        "  print(\"\")"
      ],
      "execution_count": 7,
      "outputs": [
        {
          "output_type": "stream",
          "text": [
            "epoch 1\n"
          ],
          "name": "stdout"
        },
        {
          "output_type": "stream",
          "text": [
            "/usr/local/lib/python3.6/dist-packages/torch/nn/functional.py:1625: UserWarning: nn.functional.sigmoid is deprecated. Use torch.sigmoid instead.\n",
            "  warnings.warn(\"nn.functional.sigmoid is deprecated. Use torch.sigmoid instead.\")\n"
          ],
          "name": "stderr"
        },
        {
          "output_type": "stream",
          "text": [
            "[1,   300] loss: 1.534\n",
            "[1,   600] loss: 1.450\n",
            "[1,   900] loss: 1.450\n",
            "[1,  1200] loss: 1.447\n",
            "[1,  1500] loss: 1.446\n",
            "[1,  1800] loss: 1.446\n",
            "Val_Loss: tensor(1.4465, device='cuda:0', grad_fn=<DivBackward0>)\n",
            "\n",
            "epoch 2\n",
            "[2,   300] loss: 1.446\n",
            "[2,   600] loss: 1.446\n",
            "[2,   900] loss: 1.445\n",
            "[2,  1200] loss: 1.446\n",
            "[2,  1500] loss: 1.446\n",
            "[2,  1800] loss: 1.446\n",
            "Val_Loss: tensor(1.4464, device='cuda:0', grad_fn=<DivBackward0>)\n",
            "\n",
            "epoch 3\n",
            "[3,   300] loss: 1.430\n",
            "[3,   600] loss: 1.368\n",
            "[3,   900] loss: 1.345\n",
            "[3,  1200] loss: 1.336\n",
            "[3,  1500] loss: 1.329\n",
            "[3,  1800] loss: 1.328\n",
            "Val_Loss: tensor(1.3226, device='cuda:0', grad_fn=<DivBackward0>)\n",
            "\n",
            "epoch 4\n",
            "[4,   300] loss: 1.325\n",
            "[4,   600] loss: 1.322\n",
            "[4,   900] loss: 1.322\n",
            "[4,  1200] loss: 1.320\n",
            "[4,  1500] loss: 1.319\n",
            "[4,  1800] loss: 1.318\n",
            "Val_Loss: tensor(1.3154, device='cuda:0', grad_fn=<DivBackward0>)\n",
            "\n",
            "epoch 5\n",
            "[5,   300] loss: 1.318\n",
            "[5,   600] loss: 1.317\n",
            "[5,   900] loss: 1.317\n",
            "[5,  1200] loss: 1.316\n",
            "[5,  1500] loss: 1.316\n",
            "[5,  1800] loss: 1.316\n",
            "Val_Loss: tensor(1.3126, device='cuda:0', grad_fn=<DivBackward0>)\n",
            "\n",
            "epoch 6\n",
            "[6,   300] loss: 1.316\n",
            "[6,   600] loss: 1.316\n",
            "[6,   900] loss: 1.315\n",
            "[6,  1200] loss: 1.314\n",
            "[6,  1500] loss: 1.314\n",
            "[6,  1800] loss: 1.314\n",
            "Val_Loss: tensor(1.3114, device='cuda:0', grad_fn=<DivBackward0>)\n",
            "\n",
            "epoch 7\n",
            "[7,   300] loss: 1.315\n",
            "[7,   600] loss: 1.313\n",
            "[7,   900] loss: 1.313\n",
            "[7,  1200] loss: 1.314\n",
            "[7,  1500] loss: 1.314\n",
            "[7,  1800] loss: 1.313\n",
            "Val_Loss: tensor(1.3107, device='cuda:0', grad_fn=<DivBackward0>)\n",
            "\n",
            "epoch 8\n",
            "[8,   300] loss: 1.313\n",
            "[8,   600] loss: 1.314\n",
            "[8,   900] loss: 1.312\n",
            "[8,  1200] loss: 1.313\n",
            "[8,  1500] loss: 1.312\n",
            "[8,  1800] loss: 1.314\n",
            "Val_Loss: tensor(1.3103, device='cuda:0', grad_fn=<DivBackward0>)\n",
            "\n",
            "epoch 9\n",
            "[9,   300] loss: 1.313\n",
            "[9,   600] loss: 1.312\n",
            "[9,   900] loss: 1.314\n",
            "[9,  1200] loss: 1.313\n",
            "[9,  1500] loss: 1.313\n",
            "[9,  1800] loss: 1.312\n",
            "Val_Loss: tensor(1.3103, device='cuda:0', grad_fn=<DivBackward0>)\n",
            "\n",
            "epoch 10\n",
            "[10,   300] loss: 1.313\n",
            "[10,   600] loss: 1.313\n",
            "[10,   900] loss: 1.313\n",
            "[10,  1200] loss: 1.313\n",
            "[10,  1500] loss: 1.312\n",
            "[10,  1800] loss: 1.311\n",
            "Val_Loss: tensor(1.3101, device='cuda:0', grad_fn=<DivBackward0>)\n",
            "\n",
            "epoch 11\n",
            "[11,   300] loss: 1.312\n",
            "[11,   600] loss: 1.312\n",
            "[11,   900] loss: 1.313\n",
            "[11,  1200] loss: 1.312\n",
            "[11,  1500] loss: 1.312\n",
            "[11,  1800] loss: 1.313\n",
            "Val_Loss: tensor(1.3097, device='cuda:0', grad_fn=<DivBackward0>)\n",
            "\n",
            "epoch 12\n",
            "[12,   300] loss: 1.312\n",
            "[12,   600] loss: 1.313\n",
            "[12,   900] loss: 1.312\n",
            "[12,  1200] loss: 1.311\n",
            "[12,  1500] loss: 1.314\n",
            "[12,  1800] loss: 1.312\n",
            "Val_Loss: tensor(1.3096, device='cuda:0', grad_fn=<DivBackward0>)\n",
            "\n",
            "epoch 13\n",
            "[13,   300] loss: 1.312\n",
            "[13,   600] loss: 1.312\n",
            "[13,   900] loss: 1.312\n",
            "[13,  1200] loss: 1.312\n",
            "[13,  1500] loss: 1.312\n",
            "[13,  1800] loss: 1.313\n",
            "Val_Loss: tensor(1.3095, device='cuda:0', grad_fn=<DivBackward0>)\n",
            "\n",
            "epoch 14\n",
            "[14,   300] loss: 1.313\n",
            "[14,   600] loss: 1.312\n",
            "[14,   900] loss: 1.311\n",
            "[14,  1200] loss: 1.311\n",
            "[14,  1500] loss: 1.312\n",
            "[14,  1800] loss: 1.311\n",
            "Val_Loss: tensor(1.3094, device='cuda:0', grad_fn=<DivBackward0>)\n",
            "\n",
            "epoch 15\n",
            "[15,   300] loss: 1.310\n",
            "[15,   600] loss: 1.311\n",
            "[15,   900] loss: 1.312\n",
            "[15,  1200] loss: 1.312\n",
            "[15,  1500] loss: 1.313\n",
            "[15,  1800] loss: 1.313\n",
            "Val_Loss: tensor(1.3093, device='cuda:0', grad_fn=<DivBackward0>)\n",
            "\n",
            "epoch 16\n",
            "[16,   300] loss: 1.311\n",
            "[16,   600] loss: 1.311\n",
            "[16,   900] loss: 1.312\n",
            "[16,  1200] loss: 1.313\n",
            "[16,  1500] loss: 1.311\n",
            "[16,  1800] loss: 1.312\n",
            "Val_Loss: tensor(1.3092, device='cuda:0', grad_fn=<DivBackward0>)\n",
            "\n",
            "epoch 17\n",
            "[17,   300] loss: 1.312\n",
            "[17,   600] loss: 1.314\n",
            "[17,   900] loss: 1.310\n",
            "[17,  1200] loss: 1.312\n",
            "[17,  1500] loss: 1.312\n",
            "[17,  1800] loss: 1.311\n",
            "Val_Loss: tensor(1.3092, device='cuda:0', grad_fn=<DivBackward0>)\n",
            "\n",
            "epoch 18\n",
            "[18,   300] loss: 1.312\n",
            "[18,   600] loss: 1.311\n",
            "[18,   900] loss: 1.312\n",
            "[18,  1200] loss: 1.312\n",
            "[18,  1500] loss: 1.311\n",
            "[18,  1800] loss: 1.312\n",
            "Val_Loss: tensor(1.3091, device='cuda:0', grad_fn=<DivBackward0>)\n",
            "\n",
            "epoch 19\n",
            "[19,   300] loss: 1.311\n",
            "[19,   600] loss: 1.312\n",
            "[19,   900] loss: 1.312\n",
            "[19,  1200] loss: 1.313\n",
            "[19,  1500] loss: 1.312\n",
            "[19,  1800] loss: 1.311\n",
            "Val_Loss: tensor(1.3092, device='cuda:0', grad_fn=<DivBackward0>)\n",
            "\n",
            "epoch 20\n",
            "[20,   300] loss: 1.310\n",
            "[20,   600] loss: 1.312\n",
            "[20,   900] loss: 1.312\n",
            "[20,  1200] loss: 1.311\n",
            "[20,  1500] loss: 1.312\n",
            "[20,  1800] loss: 1.312\n",
            "Val_Loss: tensor(1.3090, device='cuda:0', grad_fn=<DivBackward0>)\n",
            "\n"
          ],
          "name": "stdout"
        }
      ]
    },
    {
      "cell_type": "code",
      "metadata": {
        "id": "a5SPO-c6rY2f",
        "colab_type": "code",
        "colab": {
          "base_uri": "https://localhost:8080/",
          "height": 581
        },
        "outputId": "bf00d1a5-132f-44fe-eec5-7fbd5287261b"
      },
      "source": [
        "import matplotlib.pyplot as plt\n",
        "\n",
        "for k in range(0, 20, 5):\n",
        "    plt.figure(figsize=(9, 2))\n",
        "    imgs = (Check[k][1].detach()).to('cpu').numpy()\n",
        "    recon = (Check[k][2].detach()).to('cpu').numpy()\n",
        "    for i, item in enumerate(imgs):\n",
        "        if i >= 9: break\n",
        "        plt.subplot(2, 9, i+1)\n",
        "        plt.imshow(item[0])\n",
        "        \n",
        "    for i, item in enumerate(recon):\n",
        "        if i >= 9: break\n",
        "        plt.subplot(2, 9, 9+i+1)\n",
        "        plt.imshow(item[0])"
      ],
      "execution_count": 11,
      "outputs": [
        {
          "output_type": "display_data",
          "data": {
            "image/png": "[encoded data removed]",
            "text/plain": [
              "<Figure size 648x144 with 18 Axes>"
            ]
          },
          "metadata": {
            "tags": [],
            "needs_background": "light"
          }
        },
        {
          "output_type": "display_data",
          "data": {
            "image/png": "[encoded data removed]",
            "text/plain": [
              "<Figure size 648x144 with 18 Axes>"
            ]
          },
          "metadata": {
            "tags": [],
            "needs_background": "light"
          }
        },
        {
          "output_type": "display_data",
          "data": {
            "image/png": "[encoded data removed]",
            "text/plain": [
              "<Figure size 648x144 with 18 Axes>"
            ]
          },
          "metadata": {
            "tags": [],
            "needs_background": "light"
          }
        },
        {
          "output_type": "display_data",
          "data": {
            "image/png": "[encoded data removed]",
            "text/plain": [
              "<Figure size 648x144 with 18 Axes>"
            ]
          },
          "metadata": {
            "tags": [],
            "needs_background": "light"
          }
        }
      ]
    },
    {
      "cell_type": "code",
      "metadata": {
        "id": "SJEfB6tpBQ5P",
        "colab_type": "code",
        "colab": {
          "base_uri": "https://localhost:8080/",
          "height": 425
        },
        "outputId": "c5d71a0d-cc38-4bb2-936a-37db2f3cbdc0"
      },
      "source": [
        "import numpy\n",
        "\n",
        "samples, labels = iter(testloader).next()\n",
        "plt.figure(figsize=(16,24))\n",
        "grid_imgs = torchvision.utils.make_grid(samples[:24])\n",
        "np_grid_imgs = grid_imgs.numpy()\n",
        "# in tensor, image is (batch, width, height), so you have to transpose it to (width, height, batch) in numpy to show it.\n",
        "plt.imshow(numpy.transpose(np_grid_imgs, (1,2,0)))"
      ],
      "execution_count": 12,
      "outputs": [
        {
          "output_type": "stream",
          "text": [
            "Clipping input data to the valid range for imshow with RGB data ([0..1] for floats or [0..255] for integers).\n"
          ],
          "name": "stderr"
        },
        {
          "output_type": "execute_result",
          "data": {
            "text/plain": [
              "<matplotlib.image.AxesImage at 0x7f05adf11630>"
            ]
          },
          "metadata": {
            "tags": []
          },
          "execution_count": 12
        },
        {
          "output_type": "display_data",
          "data": {
            "image/png": "[encoded data removed]",
            "text/plain": [
              "<Figure size 1152x1728 with 1 Axes>"
            ]
          },
          "metadata": {
            "tags": [],
            "needs_background": "light"
          }
        }
      ]
    },
    {
      "cell_type": "code",
      "metadata": {
        "id": "k3lZIZ-9DYDx",
        "colab_type": "code",
        "colab": {
          "base_uri": "https://localhost:8080/",
          "height": 443
        },
        "outputId": "2378a94d-4756-4d79-ee6c-3f0315e55390"
      },
      "source": [
        "samples = samples.to('cuda')\n",
        "Results = autoencoder(samples)\n",
        "Resluts = Results.to('cpu')\n",
        "plt.figure(figsize=(16,24))\n",
        "grid_imgs = torchvision.utils.make_grid(Results[:24])\n",
        "grid_imgs = grid_imgs.to('cpu')\n",
        "np_grid_imgs = grid_imgs.detach().numpy()\n",
        "# in tensor, image is (batch, width, height), so you have to transpose it to (width, height, batch) in numpy to show it.\n",
        "plt.imshow(numpy.transpose(np_grid_imgs, (1,2,0)))"
      ],
      "execution_count": 13,
      "outputs": [
        {
          "output_type": "stream",
          "text": [
            "/usr/local/lib/python3.6/dist-packages/torch/nn/functional.py:1625: UserWarning: nn.functional.sigmoid is deprecated. Use torch.sigmoid instead.\n",
            "  warnings.warn(\"nn.functional.sigmoid is deprecated. Use torch.sigmoid instead.\")\n"
          ],
          "name": "stderr"
        },
        {
          "output_type": "execute_result",
          "data": {
            "text/plain": [
              "<matplotlib.image.AxesImage at 0x7f05adee1c18>"
            ]
          },
          "metadata": {
            "tags": []
          },
          "execution_count": 13
        },
        {
          "output_type": "display_data",
          "data": {
            "image/png": "[encoded data removed]",
            "text/plain": [
              "<Figure size 1152x1728 with 1 Axes>"
            ]
          },
          "metadata": {
            "tags": [],
            "needs_background": "light"
          }
        }
      ]
    },
    {
      "cell_type": "code",
      "metadata": {
        "id": "MUcTN93NLHzO",
        "colab_type": "code",
        "colab": {
          "base_uri": "https://localhost:8080/",
          "height": 126
        },
        "outputId": "24382572-ec35-476f-8179-2eaa4e67cf26"
      },
      "source": [
        "from google.colab import drive\n",
        "\n",
        "drive.mount('/content/gdrive')"
      ],
      "execution_count": 17,
      "outputs": [
        {
          "output_type": "stream",
          "text": [
            "Go to this URL in a browser: https://accounts.google.com/o/oauth2/auth?client_id=947318989803-6bn6qk8qdgf4n4g3pfee6491hc0brc4i.apps.googleusercontent.com&redirect_uri=urn%3aietf%3awg%3aoauth%3a2.0%3aoob&scope=email%20https%3a%2f%2fwww.googleapis.com%2fauth%2fdocs.test%20https%3a%2f%2fwww.googleapis.com%2fauth%2fdrive%20https%3a%2f%2fwww.googleapis.com%2fauth%2fdrive.photos.readonly%20https%3a%2f%2fwww.googleapis.com%2fauth%2fpeopleapi.readonly&response_type=code\n",
            "\n",
            "Enter your authorization code:\n",
            "··········\n",
            "Mounted at /content/gdrive\n"
          ],
          "name": "stdout"
        }
      ]
    },
    {
      "cell_type": "code",
      "metadata": {
        "id": "xtTn3wTbJEqk",
        "colab_type": "code",
        "colab": {}
      },
      "source": [
        "PATH = '/content/gdrive/My Drive/Pytorch_Practice/MNIST_AE_Model-1.pt'\n",
        "torch.save(autoencoder,PATH)"
      ],
      "execution_count": 18,
      "outputs": []
    },
    {
      "cell_type": "code",
      "metadata": {
        "id": "xTg5gvSyLSaJ",
        "colab_type": "code",
        "colab": {
          "base_uri": "https://localhost:8080/",
          "height": 106
        },
        "outputId": "c14d72ab-51c6-4054-972d-9afe43874872"
      },
      "source": [
        "class Encoder(nn.Module):\n",
        "\n",
        "  def __init__(self):\n",
        "    super(Encoder,self).__init__()\n",
        "\n",
        "    self.conv1 = nn.Conv2d(1,16,3,(2,2),padding=(1,1))\n",
        "    self.conv2 = nn.Conv2d(16,32,3,(2,2),padding=(1,1))\n",
        "    self.conv3 = nn.Conv2d(32, 64, 7)\n",
        "\n",
        "  def forward(self,x):\n",
        "\n",
        "    x = F.relu(self.conv1(x))\n",
        "    x = F.relu(self.conv2(x))\n",
        "    x = self.conv3(x)\n",
        "\n",
        "    return x\n",
        "\n",
        "encoder = Encoder()\n",
        "encoder = encoder.to(device)\n",
        "print(encoder)"
      ],
      "execution_count": 45,
      "outputs": [
        {
          "output_type": "stream",
          "text": [
            "Encoder(\n",
            "  (conv1): Conv2d(1, 16, kernel_size=(3, 3), stride=(2, 2), padding=(1, 1))\n",
            "  (conv2): Conv2d(16, 32, kernel_size=(3, 3), stride=(2, 2), padding=(1, 1))\n",
            "  (conv3): Conv2d(32, 64, kernel_size=(7, 7), stride=(1, 1))\n",
            ")\n"
          ],
          "name": "stdout"
        }
      ]
    },
    {
      "cell_type": "code",
      "metadata": {
        "id": "BShBi5ZdMdDo",
        "colab_type": "code",
        "colab": {
          "base_uri": "https://localhost:8080/",
          "height": 106
        },
        "outputId": "f4045791-b3d5-47c4-bcc9-2120da2038d8"
      },
      "source": [
        "class Decoder(nn.Module):\n",
        "\n",
        "  def __init__(self):\n",
        "    super(Decoder,self).__init__()\n",
        "\n",
        "    self.t_conv1 = nn.ConvTranspose2d(64, 32, 7)\n",
        "    self.t_conv2 = nn.ConvTranspose2d(32,16,3,stride=2,padding=1,output_padding=1)\n",
        "    self.t_conv3 = nn.ConvTranspose2d(16, 1, 3, stride=2, padding=1, output_padding=1)\n",
        "\n",
        "\n",
        "  def forward(self,x):\n",
        "\n",
        "    x = F.relu(self.t_conv1(x))\n",
        "    x = F.relu(self.t_conv2(x))\n",
        "    x = F.sigmoid(self.t_conv3(x))\n",
        "\n",
        "    return x\n",
        "\n",
        "decoder = Decoder()\n",
        "decoder = decoder.to(device)\n",
        "print(decoder)"
      ],
      "execution_count": 46,
      "outputs": [
        {
          "output_type": "stream",
          "text": [
            "Decoder(\n",
            "  (t_conv1): ConvTranspose2d(64, 32, kernel_size=(7, 7), stride=(1, 1))\n",
            "  (t_conv2): ConvTranspose2d(32, 16, kernel_size=(3, 3), stride=(2, 2), padding=(1, 1), output_padding=(1, 1))\n",
            "  (t_conv3): ConvTranspose2d(16, 1, kernel_size=(3, 3), stride=(2, 2), padding=(1, 1), output_padding=(1, 1))\n",
            ")\n"
          ],
          "name": "stdout"
        }
      ]
    },
    {
      "cell_type": "code",
      "metadata": {
        "id": "_2VgxjHaM6c0",
        "colab_type": "code",
        "colab": {}
      },
      "source": [
        "criterion_AE = nn.MSELoss()\n",
        "optimizer_encoder = torch.optim.Adam(encoder.parameters(),lr=0.001, weight_decay=1e-5)\n",
        "optimizer_decoder = torch.optim.Adam(decoder.parameters(),lr=0.001, weight_decay=1e-5)"
      ],
      "execution_count": 47,
      "outputs": []
    },
    {
      "cell_type": "code",
      "metadata": {
        "id": "Dz_b2KRMNKXE",
        "colab_type": "code",
        "colab": {}
      },
      "source": [
        "def val_loss(dataloader,criterion):\n",
        "\n",
        "  I = 0\n",
        "  total_loss = 0.0\n",
        "\n",
        "  for data in dataloader:\n",
        "    I += 1\n",
        "    \n",
        "    images,l = data\n",
        "    images = images.to(device)\n",
        "\n",
        "    z_inter = encoder(images)\n",
        "    out = decoder(z_inter)\n",
        "\n",
        "    loss = criterion_AE(out,images)\n",
        "    total_loss += loss\n",
        "\n",
        "  avg_loss = total_loss / I\n",
        "\n",
        "  return avg_loss"
      ],
      "execution_count": 48,
      "outputs": []
    },
    {
      "cell_type": "code",
      "metadata": {
        "id": "fBd_1fjfNeIT",
        "colab_type": "code",
        "colab": {
          "base_uri": "https://localhost:8080/",
          "height": 1000
        },
        "outputId": "b8ed105a-46a6-4cce-8acd-7c74d984c9dd"
      },
      "source": [
        "Check = []\n",
        "\n",
        "for epoch in range(20):\n",
        "  print(\"epoch\",epoch+1)\n",
        "\n",
        "  running_loss = 0.0\n",
        "  for i,data in enumerate(trainloader,0):\n",
        "\n",
        "    inputs,labels = data\n",
        "\n",
        "    inputs = inputs.to(device)\n",
        "    labels = labels.to(device)\n",
        "\n",
        "    optimizer_encoder.zero_grad()\n",
        "    optimizer_decoder.zero_grad()\n",
        "\n",
        "    z = encoder(inputs)\n",
        "    outputs = decoder(z)\n",
        "    \n",
        "    loss = criterion_AE(outputs, inputs)\n",
        "\n",
        "    loss.backward()\n",
        "    optimizer_encoder.step()\n",
        "    optimizer_decoder.step()\n",
        "\n",
        "    running_loss += loss.item()\n",
        "    \n",
        "    \n",
        "    if i % 300 == 299:    \n",
        "      print('[%d, %5d] loss: %.3f' %(epoch + 1, i + 1, running_loss / 300))\n",
        "      running_loss = 0.0\n",
        "  \n",
        "  Check.append((epoch,inputs,outputs))\n",
        "  v_loss = val_loss(testloader,criterion)\n",
        "\n",
        "  print(\"Val_Loss:\",v_loss)\n",
        "  print(\"\")"
      ],
      "execution_count": 49,
      "outputs": [
        {
          "output_type": "stream",
          "text": [
            "epoch 1\n"
          ],
          "name": "stdout"
        },
        {
          "output_type": "stream",
          "text": [
            "/usr/local/lib/python3.6/dist-packages/torch/nn/functional.py:1625: UserWarning: nn.functional.sigmoid is deprecated. Use torch.sigmoid instead.\n",
            "  warnings.warn(\"nn.functional.sigmoid is deprecated. Use torch.sigmoid instead.\")\n"
          ],
          "name": "stderr"
        },
        {
          "output_type": "stream",
          "text": [
            "[1,   300] loss: 1.482\n",
            "[1,   600] loss: 1.446\n",
            "[1,   900] loss: 1.446\n",
            "[1,  1200] loss: 1.446\n",
            "[1,  1500] loss: 1.446\n",
            "[1,  1800] loss: 1.446\n",
            "Val_Loss: tensor(1.4465, device='cuda:0', grad_fn=<DivBackward0>)\n",
            "\n",
            "epoch 2\n",
            "[2,   300] loss: 1.446\n",
            "[2,   600] loss: 1.445\n",
            "[2,   900] loss: 1.446\n",
            "[2,  1200] loss: 1.446\n",
            "[2,  1500] loss: 1.446\n",
            "[2,  1800] loss: 1.446\n",
            "Val_Loss: tensor(1.4465, device='cuda:0', grad_fn=<DivBackward0>)\n",
            "\n",
            "epoch 3\n",
            "[3,   300] loss: 1.442\n",
            "[3,   600] loss: 1.381\n",
            "[3,   900] loss: 1.345\n",
            "[3,  1200] loss: 1.334\n",
            "[3,  1500] loss: 1.330\n",
            "[3,  1800] loss: 1.326\n",
            "Val_Loss: tensor(1.3212, device='cuda:0', grad_fn=<DivBackward0>)\n",
            "\n",
            "epoch 4\n",
            "[4,   300] loss: 1.323\n",
            "[4,   600] loss: 1.322\n",
            "[4,   900] loss: 1.321\n",
            "[4,  1200] loss: 1.318\n",
            "[4,  1500] loss: 1.319\n",
            "[4,  1800] loss: 1.317\n",
            "Val_Loss: tensor(1.3143, device='cuda:0', grad_fn=<DivBackward0>)\n",
            "\n",
            "epoch 5\n",
            "[5,   300] loss: 1.316\n",
            "[5,   600] loss: 1.317\n",
            "[5,   900] loss: 1.316\n",
            "[5,  1200] loss: 1.315\n",
            "[5,  1500] loss: 1.314\n",
            "[5,  1800] loss: 1.316\n",
            "Val_Loss: tensor(1.3119, device='cuda:0', grad_fn=<DivBackward0>)\n",
            "\n",
            "epoch 6\n",
            "[6,   300] loss: 1.315\n",
            "[6,   600] loss: 1.315\n",
            "[6,   900] loss: 1.314\n",
            "[6,  1200] loss: 1.314\n",
            "[6,  1500] loss: 1.313\n",
            "[6,  1800] loss: 1.313\n",
            "Val_Loss: tensor(1.3110, device='cuda:0', grad_fn=<DivBackward0>)\n",
            "\n",
            "epoch 7\n",
            "[7,   300] loss: 1.313\n",
            "[7,   600] loss: 1.313\n",
            "[7,   900] loss: 1.313\n",
            "[7,  1200] loss: 1.313\n",
            "[7,  1500] loss: 1.314\n",
            "[7,  1800] loss: 1.314\n",
            "Val_Loss: tensor(1.3104, device='cuda:0', grad_fn=<DivBackward0>)\n",
            "\n",
            "epoch 8\n",
            "[8,   300] loss: 1.312\n",
            "[8,   600] loss: 1.314\n",
            "[8,   900] loss: 1.312\n",
            "[8,  1200] loss: 1.313\n",
            "[8,  1500] loss: 1.313\n",
            "[8,  1800] loss: 1.311\n",
            "Val_Loss: tensor(1.3100, device='cuda:0', grad_fn=<DivBackward0>)\n",
            "\n",
            "epoch 9\n",
            "[9,   300] loss: 1.311\n",
            "[9,   600] loss: 1.313\n",
            "[9,   900] loss: 1.312\n",
            "[9,  1200] loss: 1.314\n",
            "[9,  1500] loss: 1.311\n",
            "[9,  1800] loss: 1.313\n",
            "Val_Loss: tensor(1.3097, device='cuda:0', grad_fn=<DivBackward0>)\n",
            "\n",
            "epoch 10\n",
            "[10,   300] loss: 1.312\n",
            "[10,   600] loss: 1.312\n",
            "[10,   900] loss: 1.314\n",
            "[10,  1200] loss: 1.312\n",
            "[10,  1500] loss: 1.312\n",
            "[10,  1800] loss: 1.312\n",
            "Val_Loss: tensor(1.3098, device='cuda:0', grad_fn=<DivBackward0>)\n",
            "\n",
            "epoch 11\n",
            "[11,   300] loss: 1.311\n",
            "[11,   600] loss: 1.312\n",
            "[11,   900] loss: 1.312\n",
            "[11,  1200] loss: 1.313\n",
            "[11,  1500] loss: 1.312\n",
            "[11,  1800] loss: 1.312\n",
            "Val_Loss: tensor(1.3095, device='cuda:0', grad_fn=<DivBackward0>)\n",
            "\n",
            "epoch 12\n",
            "[12,   300] loss: 1.312\n",
            "[12,   600] loss: 1.313\n",
            "[12,   900] loss: 1.312\n",
            "[12,  1200] loss: 1.312\n",
            "[12,  1500] loss: 1.312\n",
            "[12,  1800] loss: 1.312\n",
            "Val_Loss: tensor(1.3095, device='cuda:0', grad_fn=<DivBackward0>)\n",
            "\n",
            "epoch 13\n",
            "[13,   300] loss: 1.312\n",
            "[13,   600] loss: 1.312\n",
            "[13,   900] loss: 1.313\n",
            "[13,  1200] loss: 1.312\n",
            "[13,  1500] loss: 1.312\n",
            "[13,  1800] loss: 1.312\n",
            "Val_Loss: tensor(1.3094, device='cuda:0', grad_fn=<DivBackward0>)\n",
            "\n",
            "epoch 14\n",
            "[14,   300] loss: 1.312\n",
            "[14,   600] loss: 1.312\n",
            "[14,   900] loss: 1.312\n",
            "[14,  1200] loss: 1.312\n",
            "[14,  1500] loss: 1.311\n",
            "[14,  1800] loss: 1.312\n",
            "Val_Loss: tensor(1.3092, device='cuda:0', grad_fn=<DivBackward0>)\n",
            "\n",
            "epoch 15\n",
            "[15,   300] loss: 1.312\n",
            "[15,   600] loss: 1.311\n",
            "[15,   900] loss: 1.313\n",
            "[15,  1200] loss: 1.311\n",
            "[15,  1500] loss: 1.311\n",
            "[15,  1800] loss: 1.312\n",
            "Val_Loss: tensor(1.3092, device='cuda:0', grad_fn=<DivBackward0>)\n",
            "\n",
            "epoch 16\n",
            "[16,   300] loss: 1.312\n",
            "[16,   600] loss: 1.312\n",
            "[16,   900] loss: 1.312\n",
            "[16,  1200] loss: 1.312\n",
            "[16,  1500] loss: 1.311\n",
            "[16,  1800] loss: 1.312\n",
            "Val_Loss: tensor(1.3092, device='cuda:0', grad_fn=<DivBackward0>)\n",
            "\n",
            "epoch 17\n",
            "[17,   300] loss: 1.311\n",
            "[17,   600] loss: 1.312\n",
            "[17,   900] loss: 1.311\n",
            "[17,  1200] loss: 1.313\n",
            "[17,  1500] loss: 1.311\n",
            "[17,  1800] loss: 1.312\n",
            "Val_Loss: tensor(1.3090, device='cuda:0', grad_fn=<DivBackward0>)\n",
            "\n",
            "epoch 18\n",
            "[18,   300] loss: 1.312\n",
            "[18,   600] loss: 1.311\n",
            "[18,   900] loss: 1.311\n",
            "[18,  1200] loss: 1.311\n",
            "[18,  1500] loss: 1.312\n",
            "[18,  1800] loss: 1.313\n",
            "Val_Loss: tensor(1.3092, device='cuda:0', grad_fn=<DivBackward0>)\n",
            "\n",
            "epoch 19\n",
            "[19,   300] loss: 1.312\n",
            "[19,   600] loss: 1.312\n",
            "[19,   900] loss: 1.312\n",
            "[19,  1200] loss: 1.311\n",
            "[19,  1500] loss: 1.311\n",
            "[19,  1800] loss: 1.311\n",
            "Val_Loss: tensor(1.3092, device='cuda:0', grad_fn=<DivBackward0>)\n",
            "\n",
            "epoch 20\n",
            "[20,   300] loss: 1.312\n",
            "[20,   600] loss: 1.312\n",
            "[20,   900] loss: 1.312\n",
            "[20,  1200] loss: 1.311\n",
            "[20,  1500] loss: 1.312\n",
            "[20,  1800] loss: 1.311\n",
            "Val_Loss: tensor(1.3090, device='cuda:0', grad_fn=<DivBackward0>)\n",
            "\n"
          ],
          "name": "stdout"
        }
      ]
    },
    {
      "cell_type": "code",
      "metadata": {
        "id": "VxQiMqVZOskw",
        "colab_type": "code",
        "colab": {
          "base_uri": "https://localhost:8080/",
          "height": 581
        },
        "outputId": "112eeef7-3144-4969-ec85-454f8b558053"
      },
      "source": [
        "import matplotlib.pyplot as plt\n",
        "\n",
        "for k in range(0, 20, 5):\n",
        "    plt.figure(figsize=(9, 2))\n",
        "    imgs = (Check[k][1].detach()).to('cpu').numpy()\n",
        "    recon = (Check[k][2].detach()).to('cpu').numpy()\n",
        "    for i, item in enumerate(imgs):\n",
        "        if i >= 9: break\n",
        "        plt.subplot(2, 9, i+1)\n",
        "        plt.imshow(item[0])\n",
        "        \n",
        "    for i, item in enumerate(recon):\n",
        "        if i >= 9: break\n",
        "        plt.subplot(2, 9, 9+i+1)\n",
        "        plt.imshow(item[0])"
      ],
      "execution_count": 50,
      "outputs": [
        {
          "output_type": "display_data",
          "data": {
            "image/png": "[encoded data removed]",
            "text/plain": [
              "<Figure size 648x144 with 18 Axes>"
            ]
          },
          "metadata": {
            "tags": [],
            "needs_background": "light"
          }
        },
        {
          "output_type": "display_data",
          "data": {
            "image/png": "[encoded data removed]",
            "text/plain": [
              "<Figure size 648x144 with 18 Axes>"
            ]
          },
          "metadata": {
            "tags": [],
            "needs_background": "light"
          }
        },
        {
          "output_type": "display_data",
          "data": {
            "image/png": "[encoded data removed]",
            "text/plain": [
              "<Figure size 648x144 with 18 Axes>"
            ]
          },
          "metadata": {
            "tags": [],
            "needs_background": "light"
          }
        },
        {
          "output_type": "display_data",
          "data": {
            "image/png": "[encoded data removed]",
            "text/plain": [
              "<Figure size 648x144 with 18 Axes>"
            ]
          },
          "metadata": {
            "tags": [],
            "needs_background": "light"
          }
        }
      ]
    },
    {
      "cell_type": "code",
      "metadata": {
        "id": "YrMcYsxkO34m",
        "colab_type": "code",
        "colab": {
          "base_uri": "https://localhost:8080/",
          "height": 425
        },
        "outputId": "dc0c2ffa-56ef-4463-8051-ad8ee52833ba"
      },
      "source": [
        "import numpy\n",
        "\n",
        "samples, labels = iter(testloader).next()\n",
        "plt.figure(figsize=(16,24))\n",
        "grid_imgs = torchvision.utils.make_grid(samples[:24])\n",
        "np_grid_imgs = grid_imgs.numpy()\n",
        "# in tensor, image is (batch, width, height), so you have to transpose it to (width, height, batch) in numpy to show it.\n",
        "plt.imshow(numpy.transpose(np_grid_imgs, (1,2,0)))"
      ],
      "execution_count": 51,
      "outputs": [
        {
          "output_type": "stream",
          "text": [
            "Clipping input data to the valid range for imshow with RGB data ([0..1] for floats or [0..255] for integers).\n"
          ],
          "name": "stderr"
        },
        {
          "output_type": "execute_result",
          "data": {
            "text/plain": [
              "<matplotlib.image.AxesImage at 0x7f06303dfdd8>"
            ]
          },
          "metadata": {
            "tags": []
          },
          "execution_count": 51
        },
        {
          "output_type": "display_data",
          "data": {
            "image/png": "[encoded data removed]",
            "text/plain": [
              "<Figure size 1152x1728 with 1 Axes>"
            ]
          },
          "metadata": {
            "tags": [],
            "needs_background": "light"
          }
        }
      ]
    },
    {
      "cell_type": "code",
      "metadata": {
        "id": "6vqIkprDO5Rh",
        "colab_type": "code",
        "colab": {
          "base_uri": "https://localhost:8080/",
          "height": 443
        },
        "outputId": "f9833958-d97e-4d59-8b34-b017e694ef8a"
      },
      "source": [
        "samples = samples.to('cuda')\n",
        "Results = autoencoder(samples)\n",
        "Resluts = Results.to('cpu')\n",
        "plt.figure(figsize=(16,24))\n",
        "grid_imgs = torchvision.utils.make_grid(Results[:24])\n",
        "grid_imgs = grid_imgs.to('cpu')\n",
        "np_grid_imgs = grid_imgs.detach().numpy()\n",
        "# in tensor, image is (batch, width, height), so you have to transpose it to (width, height, batch) in numpy to show it.\n",
        "plt.imshow(numpy.transpose(np_grid_imgs, (1,2,0)))"
      ],
      "execution_count": 52,
      "outputs": [
        {
          "output_type": "stream",
          "text": [
            "/usr/local/lib/python3.6/dist-packages/torch/nn/functional.py:1625: UserWarning: nn.functional.sigmoid is deprecated. Use torch.sigmoid instead.\n",
            "  warnings.warn(\"nn.functional.sigmoid is deprecated. Use torch.sigmoid instead.\")\n"
          ],
          "name": "stderr"
        },
        {
          "output_type": "execute_result",
          "data": {
            "text/plain": [
              "<matplotlib.image.AxesImage at 0x7f0636e57be0>"
            ]
          },
          "metadata": {
            "tags": []
          },
          "execution_count": 52
        },
        {
          "output_type": "display_data",
          "data": {
            "image/png": "[encoded data removed]",
            "text/plain": [
              "<Figure size 1152x1728 with 1 Axes>"
            ]
          },
          "metadata": {
            "tags": [],
            "needs_background": "light"
          }
        }
      ]
    },
    {
      "cell_type": "code",
      "metadata": {
        "id": "JONvtS-bTQsx",
        "colab_type": "code",
        "colab": {}
      },
      "source": [
        "PATH = '/content/gdrive/My Drive/Pytorch_Practice/MNIST_Encoder-1.pt'\n",
        "torch.save(encoder,PATH)\n",
        "PATH = '/content/gdrive/My Drive/Pytorch_Practice/MNIST_Decoder-1.pt'\n",
        "torch.save(decoder,PATH)"
      ],
      "execution_count": 53,
      "outputs": []
    }
  ]
}