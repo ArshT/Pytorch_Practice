{
  "nbformat": 4,
  "nbformat_minor": 0,
  "metadata": {
    "colab": {
      "name": "Pytorch_VAE_FashionMNIST.ipynb",
      "provenance": [],
      "authorship_tag": "ABX9TyOuSIRza+22zLfVHsAjSMgV",
      "include_colab_link": true
    },
    "kernelspec": {
      "name": "python3",
      "display_name": "Python 3"
    },
    "accelerator": "GPU",
    "widgets": {
      "application/vnd.jupyter.widget-state+json": {
        "ca380cbcbdc945408ef58c5496762e41": {
          "model_module": "@jupyter-widgets/controls",
          "model_name": "HBoxModel",
          "state": {
            "_view_name": "HBoxView",
            "_dom_classes": [],
            "_model_name": "HBoxModel",
            "_view_module": "@jupyter-widgets/controls",
            "_model_module_version": "1.5.0",
            "_view_count": null,
            "_view_module_version": "1.5.0",
            "box_style": "",
            "layout": "IPY_MODEL_80e1ac919e3c48c5a50da35d31cc7a4d",
            "_model_module": "@jupyter-widgets/controls",
            "children": [
              "IPY_MODEL_8ea2b469d7314fd5b638cfe5b3de3853",
              "IPY_MODEL_341f59520adc4b239007cf9ddc27366c"
            ]
          }
        },
        "80e1ac919e3c48c5a50da35d31cc7a4d": {
          "model_module": "@jupyter-widgets/base",
          "model_name": "LayoutModel",
          "state": {
            "_view_name": "LayoutView",
            "grid_template_rows": null,
            "right": null,
            "justify_content": null,
            "_view_module": "@jupyter-widgets/base",
            "overflow": null,
            "_model_module_version": "1.2.0",
            "_view_count": null,
            "flex_flow": null,
            "width": null,
            "min_width": null,
            "border": null,
            "align_items": null,
            "bottom": null,
            "_model_module": "@jupyter-widgets/base",
            "top": null,
            "grid_column": null,
            "overflow_y": null,
            "overflow_x": null,
            "grid_auto_flow": null,
            "grid_area": null,
            "grid_template_columns": null,
            "flex": null,
            "_model_name": "LayoutModel",
            "justify_items": null,
            "grid_row": null,
            "max_height": null,
            "align_content": null,
            "visibility": null,
            "align_self": null,
            "height": null,
            "min_height": null,
            "padding": null,
            "grid_auto_rows": null,
            "grid_gap": null,
            "max_width": null,
            "order": null,
            "_view_module_version": "1.2.0",
            "grid_template_areas": null,
            "object_position": null,
            "object_fit": null,
            "grid_auto_columns": null,
            "margin": null,
            "display": null,
            "left": null
          }
        },
        "8ea2b469d7314fd5b638cfe5b3de3853": {
          "model_module": "@jupyter-widgets/controls",
          "model_name": "FloatProgressModel",
          "state": {
            "_view_name": "ProgressView",
            "style": "IPY_MODEL_49f6d50c4b0d4d479b9c1f56eafd7f89",
            "_dom_classes": [],
            "description": "",
            "_model_name": "FloatProgressModel",
            "bar_style": "info",
            "max": 1,
            "_view_module": "@jupyter-widgets/controls",
            "_model_module_version": "1.5.0",
            "value": 1,
            "_view_count": null,
            "_view_module_version": "1.5.0",
            "orientation": "horizontal",
            "min": 0,
            "description_tooltip": null,
            "_model_module": "@jupyter-widgets/controls",
            "layout": "IPY_MODEL_3c4c6b1967cd4f62aa9adf85cadf96f9"
          }
        },
        "341f59520adc4b239007cf9ddc27366c": {
          "model_module": "@jupyter-widgets/controls",
          "model_name": "HTMLModel",
          "state": {
            "_view_name": "HTMLView",
            "style": "IPY_MODEL_3fb3d52026e148488309bd6cf44c6f72",
            "_dom_classes": [],
            "description": "",
            "_model_name": "HTMLModel",
            "placeholder": "​",
            "_view_module": "@jupyter-widgets/controls",
            "_model_module_version": "1.5.0",
            "value": " 26427392/? [00:20&lt;00:00, 6985730.06it/s]",
            "_view_count": null,
            "_view_module_version": "1.5.0",
            "description_tooltip": null,
            "_model_module": "@jupyter-widgets/controls",
            "layout": "IPY_MODEL_4743b6e302e246e8bea34b90f564ab4f"
          }
        },
        "49f6d50c4b0d4d479b9c1f56eafd7f89": {
          "model_module": "@jupyter-widgets/controls",
          "model_name": "ProgressStyleModel",
          "state": {
            "_view_name": "StyleView",
            "_model_name": "ProgressStyleModel",
            "description_width": "initial",
            "_view_module": "@jupyter-widgets/base",
            "_model_module_version": "1.5.0",
            "_view_count": null,
            "_view_module_version": "1.2.0",
            "bar_color": null,
            "_model_module": "@jupyter-widgets/controls"
          }
        },
        "3c4c6b1967cd4f62aa9adf85cadf96f9": {
          "model_module": "@jupyter-widgets/base",
          "model_name": "LayoutModel",
          "state": {
            "_view_name": "LayoutView",
            "grid_template_rows": null,
            "right": null,
            "justify_content": null,
            "_view_module": "@jupyter-widgets/base",
            "overflow": null,
            "_model_module_version": "1.2.0",
            "_view_count": null,
            "flex_flow": null,
            "width": null,
            "min_width": null,
            "border": null,
            "align_items": null,
            "bottom": null,
            "_model_module": "@jupyter-widgets/base",
            "top": null,
            "grid_column": null,
            "overflow_y": null,
            "overflow_x": null,
            "grid_auto_flow": null,
            "grid_area": null,
            "grid_template_columns": null,
            "flex": null,
            "_model_name": "LayoutModel",
            "justify_items": null,
            "grid_row": null,
            "max_height": null,
            "align_content": null,
            "visibility": null,
            "align_self": null,
            "height": null,
            "min_height": null,
            "padding": null,
            "grid_auto_rows": null,
            "grid_gap": null,
            "max_width": null,
            "order": null,
            "_view_module_version": "1.2.0",
            "grid_template_areas": null,
            "object_position": null,
            "object_fit": null,
            "grid_auto_columns": null,
            "margin": null,
            "display": null,
            "left": null
          }
        },
        "3fb3d52026e148488309bd6cf44c6f72": {
          "model_module": "@jupyter-widgets/controls",
          "model_name": "DescriptionStyleModel",
          "state": {
            "_view_name": "StyleView",
            "_model_name": "DescriptionStyleModel",
            "description_width": "",
            "_view_module": "@jupyter-widgets/base",
            "_model_module_version": "1.5.0",
            "_view_count": null,
            "_view_module_version": "1.2.0",
            "_model_module": "@jupyter-widgets/controls"
          }
        },
        "4743b6e302e246e8bea34b90f564ab4f": {
          "model_module": "@jupyter-widgets/base",
          "model_name": "LayoutModel",
          "state": {
            "_view_name": "LayoutView",
            "grid_template_rows": null,
            "right": null,
            "justify_content": null,
            "_view_module": "@jupyter-widgets/base",
            "overflow": null,
            "_model_module_version": "1.2.0",
            "_view_count": null,
            "flex_flow": null,
            "width": null,
            "min_width": null,
            "border": null,
            "align_items": null,
            "bottom": null,
            "_model_module": "@jupyter-widgets/base",
            "top": null,
            "grid_column": null,
            "overflow_y": null,
            "overflow_x": null,
            "grid_auto_flow": null,
            "grid_area": null,
            "grid_template_columns": null,
            "flex": null,
            "_model_name": "LayoutModel",
            "justify_items": null,
            "grid_row": null,
            "max_height": null,
            "align_content": null,
            "visibility": null,
            "align_self": null,
            "height": null,
            "min_height": null,
            "padding": null,
            "grid_auto_rows": null,
            "grid_gap": null,
            "max_width": null,
            "order": null,
            "_view_module_version": "1.2.0",
            "grid_template_areas": null,
            "object_position": null,
            "object_fit": null,
            "grid_auto_columns": null,
            "margin": null,
            "display": null,
            "left": null
          }
        },
        "f5d89be1732b4ddeab2c136a2a600491": {
          "model_module": "@jupyter-widgets/controls",
          "model_name": "HBoxModel",
          "state": {
            "_view_name": "HBoxView",
            "_dom_classes": [],
            "_model_name": "HBoxModel",
            "_view_module": "@jupyter-widgets/controls",
            "_model_module_version": "1.5.0",
            "_view_count": null,
            "_view_module_version": "1.5.0",
            "box_style": "",
            "layout": "IPY_MODEL_1395381148a94324aed1db8fe5e85be6",
            "_model_module": "@jupyter-widgets/controls",
            "children": [
              "IPY_MODEL_467e0c9db4ac4aa7adfd5057b7a45717",
              "IPY_MODEL_bc3c8323cc90422ea00a459194e90743"
            ]
          }
        },
        "1395381148a94324aed1db8fe5e85be6": {
          "model_module": "@jupyter-widgets/base",
          "model_name": "LayoutModel",
          "state": {
            "_view_name": "LayoutView",
            "grid_template_rows": null,
            "right": null,
            "justify_content": null,
            "_view_module": "@jupyter-widgets/base",
            "overflow": null,
            "_model_module_version": "1.2.0",
            "_view_count": null,
            "flex_flow": null,
            "width": null,
            "min_width": null,
            "border": null,
            "align_items": null,
            "bottom": null,
            "_model_module": "@jupyter-widgets/base",
            "top": null,
            "grid_column": null,
            "overflow_y": null,
            "overflow_x": null,
            "grid_auto_flow": null,
            "grid_area": null,
            "grid_template_columns": null,
            "flex": null,
            "_model_name": "LayoutModel",
            "justify_items": null,
            "grid_row": null,
            "max_height": null,
            "align_content": null,
            "visibility": null,
            "align_self": null,
            "height": null,
            "min_height": null,
            "padding": null,
            "grid_auto_rows": null,
            "grid_gap": null,
            "max_width": null,
            "order": null,
            "_view_module_version": "1.2.0",
            "grid_template_areas": null,
            "object_position": null,
            "object_fit": null,
            "grid_auto_columns": null,
            "margin": null,
            "display": null,
            "left": null
          }
        },
        "467e0c9db4ac4aa7adfd5057b7a45717": {
          "model_module": "@jupyter-widgets/controls",
          "model_name": "FloatProgressModel",
          "state": {
            "_view_name": "ProgressView",
            "style": "IPY_MODEL_31fb706e7c8b4a8ca5deccadef4a0105",
            "_dom_classes": [],
            "description": "",
            "_model_name": "FloatProgressModel",
            "bar_style": "success",
            "max": 1,
            "_view_module": "@jupyter-widgets/controls",
            "_model_module_version": "1.5.0",
            "value": 1,
            "_view_count": null,
            "_view_module_version": "1.5.0",
            "orientation": "horizontal",
            "min": 0,
            "description_tooltip": null,
            "_model_module": "@jupyter-widgets/controls",
            "layout": "IPY_MODEL_d172fc9fc1d04933bb7e784da93716fa"
          }
        },
        "bc3c8323cc90422ea00a459194e90743": {
          "model_module": "@jupyter-widgets/controls",
          "model_name": "HTMLModel",
          "state": {
            "_view_name": "HTMLView",
            "style": "IPY_MODEL_3be9b764a3774128bac70e0009b892a6",
            "_dom_classes": [],
            "description": "",
            "_model_name": "HTMLModel",
            "placeholder": "​",
            "_view_module": "@jupyter-widgets/controls",
            "_model_module_version": "1.5.0",
            "value": " 32768/? [00:00&lt;00:00, 64173.22it/s]",
            "_view_count": null,
            "_view_module_version": "1.5.0",
            "description_tooltip": null,
            "_model_module": "@jupyter-widgets/controls",
            "layout": "IPY_MODEL_3796488f3e024d40926214c562687fc2"
          }
        },
        "31fb706e7c8b4a8ca5deccadef4a0105": {
          "model_module": "@jupyter-widgets/controls",
          "model_name": "ProgressStyleModel",
          "state": {
            "_view_name": "StyleView",
            "_model_name": "ProgressStyleModel",
            "description_width": "initial",
            "_view_module": "@jupyter-widgets/base",
            "_model_module_version": "1.5.0",
            "_view_count": null,
            "_view_module_version": "1.2.0",
            "bar_color": null,
            "_model_module": "@jupyter-widgets/controls"
          }
        },
        "d172fc9fc1d04933bb7e784da93716fa": {
          "model_module": "@jupyter-widgets/base",
          "model_name": "LayoutModel",
          "state": {
            "_view_name": "LayoutView",
            "grid_template_rows": null,
            "right": null,
            "justify_content": null,
            "_view_module": "@jupyter-widgets/base",
            "overflow": null,
            "_model_module_version": "1.2.0",
            "_view_count": null,
            "flex_flow": null,
            "width": null,
            "min_width": null,
            "border": null,
            "align_items": null,
            "bottom": null,
            "_model_module": "@jupyter-widgets/base",
            "top": null,
            "grid_column": null,
            "overflow_y": null,
            "overflow_x": null,
            "grid_auto_flow": null,
            "grid_area": null,
            "grid_template_columns": null,
            "flex": null,
            "_model_name": "LayoutModel",
            "justify_items": null,
            "grid_row": null,
            "max_height": null,
            "align_content": null,
            "visibility": null,
            "align_self": null,
            "height": null,
            "min_height": null,
            "padding": null,
            "grid_auto_rows": null,
            "grid_gap": null,
            "max_width": null,
            "order": null,
            "_view_module_version": "1.2.0",
            "grid_template_areas": null,
            "object_position": null,
            "object_fit": null,
            "grid_auto_columns": null,
            "margin": null,
            "display": null,
            "left": null
          }
        },
        "3be9b764a3774128bac70e0009b892a6": {
          "model_module": "@jupyter-widgets/controls",
          "model_name": "DescriptionStyleModel",
          "state": {
            "_view_name": "StyleView",
            "_model_name": "DescriptionStyleModel",
            "description_width": "",
            "_view_module": "@jupyter-widgets/base",
            "_model_module_version": "1.5.0",
            "_view_count": null,
            "_view_module_version": "1.2.0",
            "_model_module": "@jupyter-widgets/controls"
          }
        },
        "3796488f3e024d40926214c562687fc2": {
          "model_module": "@jupyter-widgets/base",
          "model_name": "LayoutModel",
          "state": {
            "_view_name": "LayoutView",
            "grid_template_rows": null,
            "right": null,
            "justify_content": null,
            "_view_module": "@jupyter-widgets/base",
            "overflow": null,
            "_model_module_version": "1.2.0",
            "_view_count": null,
            "flex_flow": null,
            "width": null,
            "min_width": null,
            "border": null,
            "align_items": null,
            "bottom": null,
            "_model_module": "@jupyter-widgets/base",
            "top": null,
            "grid_column": null,
            "overflow_y": null,
            "overflow_x": null,
            "grid_auto_flow": null,
            "grid_area": null,
            "grid_template_columns": null,
            "flex": null,
            "_model_name": "LayoutModel",
            "justify_items": null,
            "grid_row": null,
            "max_height": null,
            "align_content": null,
            "visibility": null,
            "align_self": null,
            "height": null,
            "min_height": null,
            "padding": null,
            "grid_auto_rows": null,
            "grid_gap": null,
            "max_width": null,
            "order": null,
            "_view_module_version": "1.2.0",
            "grid_template_areas": null,
            "object_position": null,
            "object_fit": null,
            "grid_auto_columns": null,
            "margin": null,
            "display": null,
            "left": null
          }
        },
        "ce7d90d4b20f48ef97d89623b0f87827": {
          "model_module": "@jupyter-widgets/controls",
          "model_name": "HBoxModel",
          "state": {
            "_view_name": "HBoxView",
            "_dom_classes": [],
            "_model_name": "HBoxModel",
            "_view_module": "@jupyter-widgets/controls",
            "_model_module_version": "1.5.0",
            "_view_count": null,
            "_view_module_version": "1.5.0",
            "box_style": "",
            "layout": "IPY_MODEL_2814716e0d5342b18d0f3160cd51fd3a",
            "_model_module": "@jupyter-widgets/controls",
            "children": [
              "IPY_MODEL_5bf9b322c6264f5bb09f01027f16424f",
              "IPY_MODEL_0f7ae41468e44971af64e31500b60881"
            ]
          }
        },
        "2814716e0d5342b18d0f3160cd51fd3a": {
          "model_module": "@jupyter-widgets/base",
          "model_name": "LayoutModel",
          "state": {
            "_view_name": "LayoutView",
            "grid_template_rows": null,
            "right": null,
            "justify_content": null,
            "_view_module": "@jupyter-widgets/base",
            "overflow": null,
            "_model_module_version": "1.2.0",
            "_view_count": null,
            "flex_flow": null,
            "width": null,
            "min_width": null,
            "border": null,
            "align_items": null,
            "bottom": null,
            "_model_module": "@jupyter-widgets/base",
            "top": null,
            "grid_column": null,
            "overflow_y": null,
            "overflow_x": null,
            "grid_auto_flow": null,
            "grid_area": null,
            "grid_template_columns": null,
            "flex": null,
            "_model_name": "LayoutModel",
            "justify_items": null,
            "grid_row": null,
            "max_height": null,
            "align_content": null,
            "visibility": null,
            "align_self": null,
            "height": null,
            "min_height": null,
            "padding": null,
            "grid_auto_rows": null,
            "grid_gap": null,
            "max_width": null,
            "order": null,
            "_view_module_version": "1.2.0",
            "grid_template_areas": null,
            "object_position": null,
            "object_fit": null,
            "grid_auto_columns": null,
            "margin": null,
            "display": null,
            "left": null
          }
        },
        "5bf9b322c6264f5bb09f01027f16424f": {
          "model_module": "@jupyter-widgets/controls",
          "model_name": "FloatProgressModel",
          "state": {
            "_view_name": "ProgressView",
            "style": "IPY_MODEL_3efd5fe7691b4807927dc109d53cb4ec",
            "_dom_classes": [],
            "description": "",
            "_model_name": "FloatProgressModel",
            "bar_style": "info",
            "max": 1,
            "_view_module": "@jupyter-widgets/controls",
            "_model_module_version": "1.5.0",
            "value": 1,
            "_view_count": null,
            "_view_module_version": "1.5.0",
            "orientation": "horizontal",
            "min": 0,
            "description_tooltip": null,
            "_model_module": "@jupyter-widgets/controls",
            "layout": "IPY_MODEL_91bfd10374b44c4a89a884cbc8384620"
          }
        },
        "0f7ae41468e44971af64e31500b60881": {
          "model_module": "@jupyter-widgets/controls",
          "model_name": "HTMLModel",
          "state": {
            "_view_name": "HTMLView",
            "style": "IPY_MODEL_503caed55a8b4aaf920b2501403dd564",
            "_dom_classes": [],
            "description": "",
            "_model_name": "HTMLModel",
            "placeholder": "​",
            "_view_module": "@jupyter-widgets/controls",
            "_model_module_version": "1.5.0",
            "value": " 4423680/? [00:16&lt;00:00, 811075.90it/s]",
            "_view_count": null,
            "_view_module_version": "1.5.0",
            "description_tooltip": null,
            "_model_module": "@jupyter-widgets/controls",
            "layout": "IPY_MODEL_4b59490509a44a55ab85b063eb685f6a"
          }
        },
        "3efd5fe7691b4807927dc109d53cb4ec": {
          "model_module": "@jupyter-widgets/controls",
          "model_name": "ProgressStyleModel",
          "state": {
            "_view_name": "StyleView",
            "_model_name": "ProgressStyleModel",
            "description_width": "initial",
            "_view_module": "@jupyter-widgets/base",
            "_model_module_version": "1.5.0",
            "_view_count": null,
            "_view_module_version": "1.2.0",
            "bar_color": null,
            "_model_module": "@jupyter-widgets/controls"
          }
        },
        "91bfd10374b44c4a89a884cbc8384620": {
          "model_module": "@jupyter-widgets/base",
          "model_name": "LayoutModel",
          "state": {
            "_view_name": "LayoutView",
            "grid_template_rows": null,
            "right": null,
            "justify_content": null,
            "_view_module": "@jupyter-widgets/base",
            "overflow": null,
            "_model_module_version": "1.2.0",
            "_view_count": null,
            "flex_flow": null,
            "width": null,
            "min_width": null,
            "border": null,
            "align_items": null,
            "bottom": null,
            "_model_module": "@jupyter-widgets/base",
            "top": null,
            "grid_column": null,
            "overflow_y": null,
            "overflow_x": null,
            "grid_auto_flow": null,
            "grid_area": null,
            "grid_template_columns": null,
            "flex": null,
            "_model_name": "LayoutModel",
            "justify_items": null,
            "grid_row": null,
            "max_height": null,
            "align_content": null,
            "visibility": null,
            "align_self": null,
            "height": null,
            "min_height": null,
            "padding": null,
            "grid_auto_rows": null,
            "grid_gap": null,
            "max_width": null,
            "order": null,
            "_view_module_version": "1.2.0",
            "grid_template_areas": null,
            "object_position": null,
            "object_fit": null,
            "grid_auto_columns": null,
            "margin": null,
            "display": null,
            "left": null
          }
        },
        "503caed55a8b4aaf920b2501403dd564": {
          "model_module": "@jupyter-widgets/controls",
          "model_name": "DescriptionStyleModel",
          "state": {
            "_view_name": "StyleView",
            "_model_name": "DescriptionStyleModel",
            "description_width": "",
            "_view_module": "@jupyter-widgets/base",
            "_model_module_version": "1.5.0",
            "_view_count": null,
            "_view_module_version": "1.2.0",
            "_model_module": "@jupyter-widgets/controls"
          }
        },
        "4b59490509a44a55ab85b063eb685f6a": {
          "model_module": "@jupyter-widgets/base",
          "model_name": "LayoutModel",
          "state": {
            "_view_name": "LayoutView",
            "grid_template_rows": null,
            "right": null,
            "justify_content": null,
            "_view_module": "@jupyter-widgets/base",
            "overflow": null,
            "_model_module_version": "1.2.0",
            "_view_count": null,
            "flex_flow": null,
            "width": null,
            "min_width": null,
            "border": null,
            "align_items": null,
            "bottom": null,
            "_model_module": "@jupyter-widgets/base",
            "top": null,
            "grid_column": null,
            "overflow_y": null,
            "overflow_x": null,
            "grid_auto_flow": null,
            "grid_area": null,
            "grid_template_columns": null,
            "flex": null,
            "_model_name": "LayoutModel",
            "justify_items": null,
            "grid_row": null,
            "max_height": null,
            "align_content": null,
            "visibility": null,
            "align_self": null,
            "height": null,
            "min_height": null,
            "padding": null,
            "grid_auto_rows": null,
            "grid_gap": null,
            "max_width": null,
            "order": null,
            "_view_module_version": "1.2.0",
            "grid_template_areas": null,
            "object_position": null,
            "object_fit": null,
            "grid_auto_columns": null,
            "margin": null,
            "display": null,
            "left": null
          }
        },
        "48407ef112e44d4688db030086db2808": {
          "model_module": "@jupyter-widgets/controls",
          "model_name": "HBoxModel",
          "state": {
            "_view_name": "HBoxView",
            "_dom_classes": [],
            "_model_name": "HBoxModel",
            "_view_module": "@jupyter-widgets/controls",
            "_model_module_version": "1.5.0",
            "_view_count": null,
            "_view_module_version": "1.5.0",
            "box_style": "",
            "layout": "IPY_MODEL_e7c095e0171e48a2825d4b5609069a1b",
            "_model_module": "@jupyter-widgets/controls",
            "children": [
              "IPY_MODEL_acc0d73bba7f448ea522442a8191aa2c",
              "IPY_MODEL_b6b0bbe12d844f2ea601738d704e4354"
            ]
          }
        },
        "e7c095e0171e48a2825d4b5609069a1b": {
          "model_module": "@jupyter-widgets/base",
          "model_name": "LayoutModel",
          "state": {
            "_view_name": "LayoutView",
            "grid_template_rows": null,
            "right": null,
            "justify_content": null,
            "_view_module": "@jupyter-widgets/base",
            "overflow": null,
            "_model_module_version": "1.2.0",
            "_view_count": null,
            "flex_flow": null,
            "width": null,
            "min_width": null,
            "border": null,
            "align_items": null,
            "bottom": null,
            "_model_module": "@jupyter-widgets/base",
            "top": null,
            "grid_column": null,
            "overflow_y": null,
            "overflow_x": null,
            "grid_auto_flow": null,
            "grid_area": null,
            "grid_template_columns": null,
            "flex": null,
            "_model_name": "LayoutModel",
            "justify_items": null,
            "grid_row": null,
            "max_height": null,
            "align_content": null,
            "visibility": null,
            "align_self": null,
            "height": null,
            "min_height": null,
            "padding": null,
            "grid_auto_rows": null,
            "grid_gap": null,
            "max_width": null,
            "order": null,
            "_view_module_version": "1.2.0",
            "grid_template_areas": null,
            "object_position": null,
            "object_fit": null,
            "grid_auto_columns": null,
            "margin": null,
            "display": null,
            "left": null
          }
        },
        "acc0d73bba7f448ea522442a8191aa2c": {
          "model_module": "@jupyter-widgets/controls",
          "model_name": "FloatProgressModel",
          "state": {
            "_view_name": "ProgressView",
            "style": "IPY_MODEL_6ec14c17e87d4517a5973cd476df43e4",
            "_dom_classes": [],
            "description": "  0%",
            "_model_name": "FloatProgressModel",
            "bar_style": "info",
            "max": 1,
            "_view_module": "@jupyter-widgets/controls",
            "_model_module_version": "1.5.0",
            "value": 0,
            "_view_count": null,
            "_view_module_version": "1.5.0",
            "orientation": "horizontal",
            "min": 0,
            "description_tooltip": null,
            "_model_module": "@jupyter-widgets/controls",
            "layout": "IPY_MODEL_8513a7e5a8ca402f98768324541d4ca1"
          }
        },
        "b6b0bbe12d844f2ea601738d704e4354": {
          "model_module": "@jupyter-widgets/controls",
          "model_name": "HTMLModel",
          "state": {
            "_view_name": "HTMLView",
            "style": "IPY_MODEL_95220a88e60146fa8e85fd407c53ad58",
            "_dom_classes": [],
            "description": "",
            "_model_name": "HTMLModel",
            "placeholder": "​",
            "_view_module": "@jupyter-widgets/controls",
            "_model_module_version": "1.5.0",
            "value": " 0/5148 [00:00&lt;?, ?it/s]",
            "_view_count": null,
            "_view_module_version": "1.5.0",
            "description_tooltip": null,
            "_model_module": "@jupyter-widgets/controls",
            "layout": "IPY_MODEL_de80da5d68874d10b8b04962f94e9db4"
          }
        },
        "6ec14c17e87d4517a5973cd476df43e4": {
          "model_module": "@jupyter-widgets/controls",
          "model_name": "ProgressStyleModel",
          "state": {
            "_view_name": "StyleView",
            "_model_name": "ProgressStyleModel",
            "description_width": "initial",
            "_view_module": "@jupyter-widgets/base",
            "_model_module_version": "1.5.0",
            "_view_count": null,
            "_view_module_version": "1.2.0",
            "bar_color": null,
            "_model_module": "@jupyter-widgets/controls"
          }
        },
        "8513a7e5a8ca402f98768324541d4ca1": {
          "model_module": "@jupyter-widgets/base",
          "model_name": "LayoutModel",
          "state": {
            "_view_name": "LayoutView",
            "grid_template_rows": null,
            "right": null,
            "justify_content": null,
            "_view_module": "@jupyter-widgets/base",
            "overflow": null,
            "_model_module_version": "1.2.0",
            "_view_count": null,
            "flex_flow": null,
            "width": null,
            "min_width": null,
            "border": null,
            "align_items": null,
            "bottom": null,
            "_model_module": "@jupyter-widgets/base",
            "top": null,
            "grid_column": null,
            "overflow_y": null,
            "overflow_x": null,
            "grid_auto_flow": null,
            "grid_area": null,
            "grid_template_columns": null,
            "flex": null,
            "_model_name": "LayoutModel",
            "justify_items": null,
            "grid_row": null,
            "max_height": null,
            "align_content": null,
            "visibility": null,
            "align_self": null,
            "height": null,
            "min_height": null,
            "padding": null,
            "grid_auto_rows": null,
            "grid_gap": null,
            "max_width": null,
            "order": null,
            "_view_module_version": "1.2.0",
            "grid_template_areas": null,
            "object_position": null,
            "object_fit": null,
            "grid_auto_columns": null,
            "margin": null,
            "display": null,
            "left": null
          }
        },
        "95220a88e60146fa8e85fd407c53ad58": {
          "model_module": "@jupyter-widgets/controls",
          "model_name": "DescriptionStyleModel",
          "state": {
            "_view_name": "StyleView",
            "_model_name": "DescriptionStyleModel",
            "description_width": "",
            "_view_module": "@jupyter-widgets/base",
            "_model_module_version": "1.5.0",
            "_view_count": null,
            "_view_module_version": "1.2.0",
            "_model_module": "@jupyter-widgets/controls"
          }
        },
        "de80da5d68874d10b8b04962f94e9db4": {
          "model_module": "@jupyter-widgets/base",
          "model_name": "LayoutModel",
          "state": {
            "_view_name": "LayoutView",
            "grid_template_rows": null,
            "right": null,
            "justify_content": null,
            "_view_module": "@jupyter-widgets/base",
            "overflow": null,
            "_model_module_version": "1.2.0",
            "_view_count": null,
            "flex_flow": null,
            "width": null,
            "min_width": null,
            "border": null,
            "align_items": null,
            "bottom": null,
            "_model_module": "@jupyter-widgets/base",
            "top": null,
            "grid_column": null,
            "overflow_y": null,
            "overflow_x": null,
            "grid_auto_flow": null,
            "grid_area": null,
            "grid_template_columns": null,
            "flex": null,
            "_model_name": "LayoutModel",
            "justify_items": null,
            "grid_row": null,
            "max_height": null,
            "align_content": null,
            "visibility": null,
            "align_self": null,
            "height": null,
            "min_height": null,
            "padding": null,
            "grid_auto_rows": null,
            "grid_gap": null,
            "max_width": null,
            "order": null,
            "_view_module_version": "1.2.0",
            "grid_template_areas": null,
            "object_position": null,
            "object_fit": null,
            "grid_auto_columns": null,
            "margin": null,
            "display": null,
            "left": null
          }
        }
      }
    }
  },
  "cells": [
    {
      "cell_type": "markdown",
      "metadata": {
        "id": "view-in-github",
        "colab_type": "text"
      },
      "source": [
        "<a href=\"https://colab.research.google.com/github/ArshT/Pytorch_Practice/blob/master/Pytorch_VAE_FashionMNIST.ipynb\" target=\"_parent\"><img src=\"https://colab.research.google.com/assets/colab-badge.svg\" alt=\"Open In Colab\"/></a>"
      ]
    },
    {
      "cell_type": "code",
      "metadata": {
        "id": "6gHoIWTeR6Nq",
        "colab_type": "code",
        "colab": {}
      },
      "source": [
        "import torch\n",
        "import torchvision\n",
        "from torchvision.transforms import transforms\n",
        "import torch.nn as nn\n",
        "import torch.nn.functional as F\n",
        "import torch.optim as optim"
      ],
      "execution_count": 1,
      "outputs": []
    },
    {
      "cell_type": "code",
      "metadata": {
        "id": "Tq2dXNKESF9j",
        "colab_type": "code",
        "colab": {
          "base_uri": "https://localhost:8080/",
          "height": 396,
          "referenced_widgets": [
            "ca380cbcbdc945408ef58c5496762e41",
            "80e1ac919e3c48c5a50da35d31cc7a4d",
            "8ea2b469d7314fd5b638cfe5b3de3853",
            "341f59520adc4b239007cf9ddc27366c",
            "49f6d50c4b0d4d479b9c1f56eafd7f89",
            "3c4c6b1967cd4f62aa9adf85cadf96f9",
            "3fb3d52026e148488309bd6cf44c6f72",
            "4743b6e302e246e8bea34b90f564ab4f",
            "f5d89be1732b4ddeab2c136a2a600491",
            "1395381148a94324aed1db8fe5e85be6",
            "467e0c9db4ac4aa7adfd5057b7a45717",
            "bc3c8323cc90422ea00a459194e90743",
            "31fb706e7c8b4a8ca5deccadef4a0105",
            "d172fc9fc1d04933bb7e784da93716fa",
            "3be9b764a3774128bac70e0009b892a6",
            "3796488f3e024d40926214c562687fc2",
            "ce7d90d4b20f48ef97d89623b0f87827",
            "2814716e0d5342b18d0f3160cd51fd3a",
            "5bf9b322c6264f5bb09f01027f16424f",
            "0f7ae41468e44971af64e31500b60881",
            "3efd5fe7691b4807927dc109d53cb4ec",
            "91bfd10374b44c4a89a884cbc8384620",
            "503caed55a8b4aaf920b2501403dd564",
            "4b59490509a44a55ab85b063eb685f6a",
            "48407ef112e44d4688db030086db2808",
            "e7c095e0171e48a2825d4b5609069a1b",
            "acc0d73bba7f448ea522442a8191aa2c",
            "b6b0bbe12d844f2ea601738d704e4354",
            "6ec14c17e87d4517a5973cd476df43e4",
            "8513a7e5a8ca402f98768324541d4ca1",
            "95220a88e60146fa8e85fd407c53ad58",
            "de80da5d68874d10b8b04962f94e9db4"
          ]
        },
        "outputId": "41d42caf-015d-40b7-8e07-f4a33a217608"
      },
      "source": [
        "import torchvision.transforms as transforms\n",
        "from torch.utils.data import DataLoader\n",
        "from torchvision.datasets import FashionMNIST\n",
        "\n",
        "img_transform = transforms.Compose([\n",
        "    transforms.ToTensor()\n",
        "])\n",
        "\n",
        "train_dataset = FashionMNIST(root='./data/MNIST', download=True, train=True, transform=img_transform)\n",
        "train_dataloader = DataLoader(train_dataset, batch_size=32, shuffle=True)\n",
        "\n",
        "test_dataset = FashionMNIST(root='./data/MNIST', download=True, train=False, transform=img_transform)\n",
        "test_dataloader = DataLoader(test_dataset, batch_size=32, shuffle=True)"
      ],
      "execution_count": 2,
      "outputs": [
        {
          "output_type": "stream",
          "text": [
            "Downloading http://fashion-mnist.s3-website.eu-central-1.amazonaws.com/train-images-idx3-ubyte.gz to ./data/MNIST/FashionMNIST/raw/train-images-idx3-ubyte.gz\n"
          ],
          "name": "stdout"
        },
        {
          "output_type": "display_data",
          "data": {
            "application/vnd.jupyter.widget-view+json": {
              "model_id": "ca380cbcbdc945408ef58c5496762e41",
              "version_minor": 0,
              "version_major": 2
            },
            "text/plain": [
              "HBox(children=(FloatProgress(value=1.0, bar_style='info', max=1.0), HTML(value='')))"
            ]
          },
          "metadata": {
            "tags": []
          }
        },
        {
          "output_type": "stream",
          "text": [
            "Extracting ./data/MNIST/FashionMNIST/raw/train-images-idx3-ubyte.gz to ./data/MNIST/FashionMNIST/raw\n",
            "Downloading http://fashion-mnist.s3-website.eu-central-1.amazonaws.com/train-labels-idx1-ubyte.gz to ./data/MNIST/FashionMNIST/raw/train-labels-idx1-ubyte.gz\n"
          ],
          "name": "stdout"
        },
        {
          "output_type": "display_data",
          "data": {
            "application/vnd.jupyter.widget-view+json": {
              "model_id": "f5d89be1732b4ddeab2c136a2a600491",
              "version_minor": 0,
              "version_major": 2
            },
            "text/plain": [
              "HBox(children=(FloatProgress(value=1.0, bar_style='info', max=1.0), HTML(value='')))"
            ]
          },
          "metadata": {
            "tags": []
          }
        },
        {
          "output_type": "stream",
          "text": [
            "Extracting ./data/MNIST/FashionMNIST/raw/train-labels-idx1-ubyte.gz to ./data/MNIST/FashionMNIST/raw\n",
            "Downloading http://fashion-mnist.s3-website.eu-central-1.amazonaws.com/t10k-images-idx3-ubyte.gz to ./data/MNIST/FashionMNIST/raw/t10k-images-idx3-ubyte.gz\n",
            "\n"
          ],
          "name": "stdout"
        },
        {
          "output_type": "display_data",
          "data": {
            "application/vnd.jupyter.widget-view+json": {
              "model_id": "ce7d90d4b20f48ef97d89623b0f87827",
              "version_minor": 0,
              "version_major": 2
            },
            "text/plain": [
              "HBox(children=(FloatProgress(value=1.0, bar_style='info', max=1.0), HTML(value='')))"
            ]
          },
          "metadata": {
            "tags": []
          }
        },
        {
          "output_type": "stream",
          "text": [
            "Extracting ./data/MNIST/FashionMNIST/raw/t10k-images-idx3-ubyte.gz to ./data/MNIST/FashionMNIST/raw\n",
            "Downloading http://fashion-mnist.s3-website.eu-central-1.amazonaws.com/t10k-labels-idx1-ubyte.gz to ./data/MNIST/FashionMNIST/raw/t10k-labels-idx1-ubyte.gz\n"
          ],
          "name": "stdout"
        },
        {
          "output_type": "display_data",
          "data": {
            "application/vnd.jupyter.widget-view+json": {
              "model_id": "48407ef112e44d4688db030086db2808",
              "version_minor": 0,
              "version_major": 2
            },
            "text/plain": [
              "HBox(children=(FloatProgress(value=1.0, bar_style='info', max=1.0), HTML(value='')))"
            ]
          },
          "metadata": {
            "tags": []
          }
        },
        {
          "output_type": "stream",
          "text": [
            "Extracting ./data/MNIST/FashionMNIST/raw/t10k-labels-idx1-ubyte.gz to ./data/MNIST/FashionMNIST/raw\n",
            "Processing...\n",
            "Done!\n"
          ],
          "name": "stdout"
        },
        {
          "output_type": "stream",
          "text": [
            "/usr/local/lib/python3.6/dist-packages/torchvision/datasets/mnist.py:469: UserWarning: The given NumPy array is not writeable, and PyTorch does not support non-writeable tensors. This means you can write to the underlying (supposedly non-writeable) NumPy array using the tensor. You may want to copy the array to protect its data or make it writeable before converting it to a tensor. This type of warning will be suppressed for the rest of this program. (Triggered internally at  /pytorch/torch/csrc/utils/tensor_numpy.cpp:141.)\n",
            "  return torch.from_numpy(parsed.astype(m[2], copy=False)).view(*s)\n"
          ],
          "name": "stderr"
        }
      ]
    },
    {
      "cell_type": "code",
      "metadata": {
        "id": "sR58yaPZSOo0",
        "colab_type": "code",
        "colab": {
          "base_uri": "https://localhost:8080/",
          "height": 35
        },
        "outputId": "2d89c5d4-9f50-4d76-ff98-94e628cc6949"
      },
      "source": [
        "USE_GPU = True\n",
        "\n",
        "if USE_GPU and torch.cuda.is_available():\n",
        "    print('using device: cuda')\n",
        "else:\n",
        "    print('using device: cpu')\n",
        "\n",
        "device = torch.device(\"cuda:0\" if USE_GPU else \"cpu\")"
      ],
      "execution_count": 3,
      "outputs": [
        {
          "output_type": "stream",
          "text": [
            "using device: cuda\n"
          ],
          "name": "stdout"
        }
      ]
    },
    {
      "cell_type": "code",
      "metadata": {
        "id": "vDWmi1xpSRCk",
        "colab_type": "code",
        "colab": {
          "base_uri": "https://localhost:8080/",
          "height": 195
        },
        "outputId": "5314bf9a-0770-4154-e73e-771896872cbe"
      },
      "source": [
        "class VAE(nn.Module):\n",
        "\n",
        "  def __init__(self):\n",
        "    super(VAE, self).__init__()\n",
        "\n",
        "    self.conv1 = nn.Conv2d(1,64,4,(2,2),(1,1))\n",
        "    self.conv2 = nn.Conv2d(64,128,4,(2,2),(1,1))\n",
        "    self.conv3 = nn.Conv2d(128,256,4,(2,2),(1,1))\n",
        "    self.fc1 = nn.Linear(256*3*3,64)\n",
        "\n",
        "    self.fc2 = nn.Linear(64,256*3*3)\n",
        "    self.t_conv1 = nn.ConvTranspose2d(256,128,3,(2,2))\n",
        "    self.t_conv2 = nn.ConvTranspose2d(128,64,4,(2,2),(1,1))\n",
        "    self.t_conv3 = nn.ConvTranspose2d(64,1,4,(2,2),(1,1))\n",
        "\n",
        "  def reparametrize(self,mu,logvar):\n",
        "    std = logvar.mul(0.5).exp_()\n",
        "    eps = torch.empty_like(std).normal_()\n",
        "    return eps.mul(std).add_(mu)\n",
        "  \n",
        "  def forward(self,x):\n",
        "    \n",
        "    x = F.relu(self.conv1(x))\n",
        "    x = F.relu(self.conv2(x))\n",
        "    x = F.relu(self.conv3(x))\n",
        "    x = x.view(x.shape[0],256*3*3)\n",
        "\n",
        "    mu = self.fc1(x)\n",
        "    logvar = self.fc1(x)\n",
        "\n",
        "    z = self.reparametrize(mu,logvar)\n",
        "   \n",
        "    x = F.relu(self.fc2(z))\n",
        "    x = x.view(x.shape[0],256,3,3)\n",
        "    x = F.relu(self.t_conv1(x))\n",
        "    x = F.relu(self.t_conv2(x))\n",
        "    x = torch.sigmoid(self.t_conv3(x))\n",
        "   \n",
        "    return (x,mu,logvar)\n",
        "\n",
        "vae = VAE()\n",
        "vae = vae.to(device)\n",
        "print(vae)"
      ],
      "execution_count": 8,
      "outputs": [
        {
          "output_type": "stream",
          "text": [
            "VAE(\n",
            "  (conv1): Conv2d(1, 64, kernel_size=(4, 4), stride=(2, 2), padding=(1, 1))\n",
            "  (conv2): Conv2d(64, 128, kernel_size=(4, 4), stride=(2, 2), padding=(1, 1))\n",
            "  (conv3): Conv2d(128, 256, kernel_size=(4, 4), stride=(2, 2), padding=(1, 1))\n",
            "  (fc1): Linear(in_features=2304, out_features=64, bias=True)\n",
            "  (fc2): Linear(in_features=64, out_features=2304, bias=True)\n",
            "  (t_conv1): ConvTranspose2d(256, 128, kernel_size=(3, 3), stride=(2, 2))\n",
            "  (t_conv2): ConvTranspose2d(128, 64, kernel_size=(4, 4), stride=(2, 2), padding=(1, 1))\n",
            "  (t_conv3): ConvTranspose2d(64, 1, kernel_size=(4, 4), stride=(2, 2), padding=(1, 1))\n",
            ")\n"
          ],
          "name": "stdout"
        }
      ]
    },
    {
      "cell_type": "code",
      "metadata": {
        "id": "S4vJcXdBT6D7",
        "colab_type": "code",
        "colab": {}
      },
      "source": [
        "def vae_loss(recon_x,x,mu,logvar):\n",
        "\n",
        "  bce_loss = F.binary_cross_entropy(recon_x.view(-1,784),x.view(-1,784),reduction='sum')\n",
        "  KLD = -0.5 * torch.sum(1 + logvar - mu.pow(2) - logvar.exp())\n",
        "\n",
        "  return KLD + bce_loss"
      ],
      "execution_count": 9,
      "outputs": []
    },
    {
      "cell_type": "code",
      "metadata": {
        "id": "KGu54_p6UATe",
        "colab_type": "code",
        "colab": {}
      },
      "source": [
        "optimizer = optim.Adam(vae.parameters(),0.001,weight_decay=1e-5)"
      ],
      "execution_count": 10,
      "outputs": []
    },
    {
      "cell_type": "code",
      "metadata": {
        "id": "i-RTwL94UCDk",
        "colab_type": "code",
        "colab": {
          "base_uri": "https://localhost:8080/",
          "height": 1000
        },
        "outputId": "b0e7f02f-bd81-4068-d708-af71a15af1b2"
      },
      "source": [
        "vae.train()\n",
        "\n",
        "train_loss_avg = []\n",
        "\n",
        "print('Training ...')\n",
        "for epoch in range(100):\n",
        "    train_loss_avg.append(0)\n",
        "    num_batches = 0\n",
        "    \n",
        "    for image_batch, _ in train_dataloader:\n",
        "        \n",
        "        image_batch = image_batch.to(device)\n",
        "\n",
        "        image_batch_recon, latent_mu, latent_logvar = vae(image_batch)\n",
        "        \n",
        "        loss = vae_loss(image_batch_recon, image_batch, latent_mu, latent_logvar)\n",
        "        \n",
        "        optimizer.zero_grad()\n",
        "        loss.backward()\n",
        "        \n",
        "        optimizer.step()\n",
        "        \n",
        "        train_loss_avg[-1] += loss.item()\n",
        "        num_batches += 1\n",
        "        \n",
        "    train_loss_avg[-1] /= num_batches\n",
        "    print('Epoch [%d / %d] average reconstruction error: %f' % (epoch+1,100, train_loss_avg[-1]))"
      ],
      "execution_count": 11,
      "outputs": [
        {
          "output_type": "stream",
          "text": [
            "Training ...\n",
            "Epoch [1 / 100] average reconstruction error: 8999.048935\n",
            "Epoch [2 / 100] average reconstruction error: 8488.291490\n",
            "Epoch [3 / 100] average reconstruction error: 8367.750021\n",
            "Epoch [4 / 100] average reconstruction error: 8299.996485\n",
            "Epoch [5 / 100] average reconstruction error: 8252.871557\n",
            "Epoch [6 / 100] average reconstruction error: 8220.495227\n",
            "Epoch [7 / 100] average reconstruction error: 8197.006251\n",
            "Epoch [8 / 100] average reconstruction error: 8177.523053\n",
            "Epoch [9 / 100] average reconstruction error: 8160.384022\n",
            "Epoch [10 / 100] average reconstruction error: 8147.172157\n",
            "Epoch [11 / 100] average reconstruction error: 8137.282050\n",
            "Epoch [12 / 100] average reconstruction error: 8120.900068\n",
            "Epoch [13 / 100] average reconstruction error: 8117.985985\n",
            "Epoch [14 / 100] average reconstruction error: 8111.204030\n",
            "Epoch [15 / 100] average reconstruction error: 8098.480646\n",
            "Epoch [16 / 100] average reconstruction error: 8094.431726\n",
            "Epoch [17 / 100] average reconstruction error: 8086.993547\n",
            "Epoch [18 / 100] average reconstruction error: 8083.169394\n",
            "Epoch [19 / 100] average reconstruction error: 8074.511934\n",
            "Epoch [20 / 100] average reconstruction error: 8074.425978\n",
            "Epoch [21 / 100] average reconstruction error: 8064.676966\n",
            "Epoch [22 / 100] average reconstruction error: 8060.443845\n",
            "Epoch [23 / 100] average reconstruction error: 8059.250318\n",
            "Epoch [24 / 100] average reconstruction error: 8053.110118\n",
            "Epoch [25 / 100] average reconstruction error: 8049.567902\n",
            "Epoch [26 / 100] average reconstruction error: 8045.509090\n",
            "Epoch [27 / 100] average reconstruction error: 8039.362087\n",
            "Epoch [28 / 100] average reconstruction error: 8041.277513\n",
            "Epoch [29 / 100] average reconstruction error: 8037.017752\n",
            "Epoch [30 / 100] average reconstruction error: 8035.353254\n",
            "Epoch [31 / 100] average reconstruction error: 8027.355490\n",
            "Epoch [32 / 100] average reconstruction error: 8033.168046\n",
            "Epoch [33 / 100] average reconstruction error: 8029.146824\n",
            "Epoch [34 / 100] average reconstruction error: 8028.771635\n",
            "Epoch [35 / 100] average reconstruction error: 8024.586535\n",
            "Epoch [36 / 100] average reconstruction error: 8019.536070\n",
            "Epoch [37 / 100] average reconstruction error: 8019.445865\n",
            "Epoch [38 / 100] average reconstruction error: 8016.101255\n",
            "Epoch [39 / 100] average reconstruction error: 8013.889377\n",
            "Epoch [40 / 100] average reconstruction error: 8016.829775\n",
            "Epoch [41 / 100] average reconstruction error: 8012.681386\n",
            "Epoch [42 / 100] average reconstruction error: 8007.954578\n",
            "Epoch [43 / 100] average reconstruction error: 8004.178279\n",
            "Epoch [44 / 100] average reconstruction error: 8002.784511\n",
            "Epoch [45 / 100] average reconstruction error: 8004.307819\n",
            "Epoch [46 / 100] average reconstruction error: 8003.517631\n",
            "Epoch [47 / 100] average reconstruction error: 7996.888862\n",
            "Epoch [48 / 100] average reconstruction error: 7998.855046\n",
            "Epoch [49 / 100] average reconstruction error: 7996.719751\n",
            "Epoch [50 / 100] average reconstruction error: 7997.548836\n",
            "Epoch [51 / 100] average reconstruction error: 7994.556791\n",
            "Epoch [52 / 100] average reconstruction error: 7993.266254\n",
            "Epoch [53 / 100] average reconstruction error: 7994.688147\n",
            "Epoch [54 / 100] average reconstruction error: 7990.275593\n",
            "Epoch [55 / 100] average reconstruction error: 7990.138064\n",
            "Epoch [56 / 100] average reconstruction error: 7991.476642\n",
            "Epoch [57 / 100] average reconstruction error: 7985.098258\n",
            "Epoch [58 / 100] average reconstruction error: 7987.538610\n",
            "Epoch [59 / 100] average reconstruction error: 7988.742913\n",
            "Epoch [60 / 100] average reconstruction error: 7984.867210\n",
            "Epoch [61 / 100] average reconstruction error: 7985.033033\n",
            "Epoch [62 / 100] average reconstruction error: 7983.730559\n",
            "Epoch [63 / 100] average reconstruction error: 7982.217594\n",
            "Epoch [64 / 100] average reconstruction error: 7978.944214\n",
            "Epoch [65 / 100] average reconstruction error: 7978.870245\n",
            "Epoch [66 / 100] average reconstruction error: 7982.571120\n",
            "Epoch [67 / 100] average reconstruction error: 7974.346354\n",
            "Epoch [68 / 100] average reconstruction error: 7976.826587\n",
            "Epoch [69 / 100] average reconstruction error: 7975.552336\n",
            "Epoch [70 / 100] average reconstruction error: 7973.751664\n",
            "Epoch [71 / 100] average reconstruction error: 7974.042798\n",
            "Epoch [72 / 100] average reconstruction error: 7969.828880\n",
            "Epoch [73 / 100] average reconstruction error: 7970.791230\n",
            "Epoch [74 / 100] average reconstruction error: 7974.532501\n",
            "Epoch [75 / 100] average reconstruction error: 7970.202950\n",
            "Epoch [76 / 100] average reconstruction error: 7974.917373\n",
            "Epoch [77 / 100] average reconstruction error: 7974.103991\n",
            "Epoch [78 / 100] average reconstruction error: 7968.321865\n",
            "Epoch [79 / 100] average reconstruction error: 7969.369544\n",
            "Epoch [80 / 100] average reconstruction error: 7967.187621\n",
            "Epoch [81 / 100] average reconstruction error: 7969.464721\n",
            "Epoch [82 / 100] average reconstruction error: 7966.456687\n",
            "Epoch [83 / 100] average reconstruction error: 7968.140794\n",
            "Epoch [84 / 100] average reconstruction error: 7963.047703\n",
            "Epoch [85 / 100] average reconstruction error: 7965.690311\n",
            "Epoch [86 / 100] average reconstruction error: 7962.511249\n",
            "Epoch [87 / 100] average reconstruction error: 7962.669620\n",
            "Epoch [88 / 100] average reconstruction error: 7961.345275\n",
            "Epoch [89 / 100] average reconstruction error: 7958.557078\n",
            "Epoch [90 / 100] average reconstruction error: 7960.782787\n",
            "Epoch [91 / 100] average reconstruction error: 7959.888757\n",
            "Epoch [92 / 100] average reconstruction error: 7958.538462\n",
            "Epoch [93 / 100] average reconstruction error: 7958.421929\n",
            "Epoch [94 / 100] average reconstruction error: 7959.096801\n",
            "Epoch [95 / 100] average reconstruction error: 7958.502497\n",
            "Epoch [96 / 100] average reconstruction error: 7957.055058\n",
            "Epoch [97 / 100] average reconstruction error: 7955.212088\n",
            "Epoch [98 / 100] average reconstruction error: 7957.814521\n",
            "Epoch [99 / 100] average reconstruction error: 7953.855951\n",
            "Epoch [100 / 100] average reconstruction error: 7953.525664\n"
          ],
          "name": "stdout"
        }
      ]
    },
    {
      "cell_type": "code",
      "metadata": {
        "id": "HvnN_1iPUNRG",
        "colab_type": "code",
        "colab": {
          "base_uri": "https://localhost:8080/",
          "height": 279
        },
        "outputId": "8fde65dc-cd0c-49f1-a002-6081ddf9bf72"
      },
      "source": [
        "import matplotlib.pyplot as plt\n",
        "plt.ion()\n",
        "\n",
        "fig = plt.figure()\n",
        "plt.plot(train_loss_avg)\n",
        "plt.xlabel('Epochs')\n",
        "plt.ylabel('Loss')\n",
        "plt.show()"
      ],
      "execution_count": 12,
      "outputs": [
        {
          "output_type": "display_data",
          "data": {
            "image/png": "[encoded data removed]",
            "text/plain": [
              "<Figure size 432x288 with 1 Axes>"
            ]
          },
          "metadata": {
            "tags": [],
            "needs_background": "light"
          }
        }
      ]
    },
    {
      "cell_type": "code",
      "metadata": {
        "id": "P5nYHYovYZ-O",
        "colab_type": "code",
        "colab": {
          "base_uri": "https://localhost:8080/",
          "height": 35
        },
        "outputId": "9bdead9d-0534-4cf8-8b3c-680d8702f74a"
      },
      "source": [
        "vae.eval()\n",
        "\n",
        "test_loss_avg, num_batches = 0, 0\n",
        "for image_batch, _ in test_dataloader:\n",
        "    \n",
        "    with torch.no_grad():\n",
        "    \n",
        "        image_batch = image_batch.to(device)\n",
        "\n",
        "        image_batch_recon, latent_mu, latent_logvar = vae(image_batch)\n",
        "\n",
        "        loss = vae_loss(image_batch_recon, image_batch, latent_mu, latent_logvar)\n",
        "\n",
        "        test_loss_avg += loss.item()\n",
        "        num_batches += 1\n",
        "    \n",
        "test_loss_avg /= num_batches\n",
        "print('average reconstruction error: %f' % (test_loss_avg))"
      ],
      "execution_count": 13,
      "outputs": [
        {
          "output_type": "stream",
          "text": [
            "average reconstruction error: 8038.825422\n"
          ],
          "name": "stdout"
        }
      ]
    },
    {
      "cell_type": "code",
      "metadata": {
        "id": "rIRW0IhuYb9z",
        "colab_type": "code",
        "colab": {
          "base_uri": "https://localhost:8080/",
          "height": 395
        },
        "outputId": "dd441315-18dc-40d2-cc09-0da8c344015e"
      },
      "source": [
        "import numpy as np\n",
        "import matplotlib.pyplot as plt\n",
        "plt.ion()\n",
        "\n",
        "import torchvision.utils\n",
        "\n",
        "vae.eval()\n",
        "\n",
        "\n",
        "def to_img(x):\n",
        "    x = x.clamp(0, 1)\n",
        "    return x\n",
        "\n",
        "def show_image(img):\n",
        "    img = to_img(img)\n",
        "    npimg = img.numpy()\n",
        "    plt.imshow(np.transpose(npimg, (1, 2, 0)))\n",
        "\n",
        "def visualise_output(images, model):\n",
        "\n",
        "    with torch.no_grad():\n",
        "    \n",
        "        images = images.to(device)\n",
        "        images, _, _ = model(images)\n",
        "        images = images.cpu()\n",
        "        images = to_img(images)\n",
        "        np_imagegrid = torchvision.utils.make_grid(images[1:50], 10, 5).numpy()\n",
        "        plt.imshow(np.transpose(np_imagegrid, (1, 2, 0)))\n",
        "        plt.show()\n",
        "\n",
        "images, labels = iter(test_dataloader).next()\n",
        "\n",
        "\n",
        "print('Original images')\n",
        "show_image(torchvision.utils.make_grid(images[1:50],10,5))\n",
        "plt.show()\n",
        "\n",
        "print('VAE reconstruction:')\n",
        "visualise_output(images, vae)"
      ],
      "execution_count": 14,
      "outputs": [
        {
          "output_type": "stream",
          "text": [
            "Original images\n"
          ],
          "name": "stdout"
        },
        {
          "output_type": "display_data",
          "data": {
            "image/png": "[encoded data removed]",
            "text/plain": [
              "<Figure size 432x288 with 1 Axes>"
            ]
          },
          "metadata": {
            "tags": [],
            "needs_background": "light"
          }
        },
        {
          "output_type": "stream",
          "text": [
            "VAE reconstruction:\n"
          ],
          "name": "stdout"
        },
        {
          "output_type": "display_data",
          "data": {
            "image/png": "[encoded data removed]",
            "text/plain": [
              "<Figure size 432x288 with 1 Axes>"
            ]
          },
          "metadata": {
            "tags": [],
            "needs_background": "light"
          }
        }
      ]
    },
    {
      "cell_type": "code",
      "metadata": {
        "id": "j224O22eZP2R",
        "colab_type": "code",
        "colab": {
          "base_uri": "https://localhost:8080/",
          "height": 407
        },
        "outputId": "1549fd28-2e4f-4447-f0da-50f23ad5d45f"
      },
      "source": [
        "import numpy\n",
        "\n",
        "samples, labels = iter(test_dataloader).next()\n",
        "plt.figure(figsize=(16,24))\n",
        "grid_imgs = torchvision.utils.make_grid(samples[:24])\n",
        "np_grid_imgs = grid_imgs.numpy()\n",
        "# in tensor, image is (batch, width, height), so you have to transpose it to (width, height, batch) in numpy to show it.\n",
        "plt.imshow(numpy.transpose(np_grid_imgs, (1,2,0)))"
      ],
      "execution_count": 15,
      "outputs": [
        {
          "output_type": "execute_result",
          "data": {
            "text/plain": [
              "<matplotlib.image.AxesImage at 0x7f39041a5a58>"
            ]
          },
          "metadata": {
            "tags": []
          },
          "execution_count": 15
        },
        {
          "output_type": "display_data",
          "data": {
            "image/png": "[encoded data removed]",
            "text/plain": [
              "<Figure size 1152x1728 with 1 Axes>"
            ]
          },
          "metadata": {
            "tags": [],
            "needs_background": "light"
          }
        }
      ]
    },
    {
      "cell_type": "code",
      "metadata": {
        "id": "AlGTaFYLZVZY",
        "colab_type": "code",
        "colab": {
          "base_uri": "https://localhost:8080/",
          "height": 407
        },
        "outputId": "cb471665-06a9-47e7-8508-5861a1f10fa7"
      },
      "source": [
        "samples = samples.to(device='cuda', dtype=torch.float)\n",
        "Results,_,_a = vae(samples)\n",
        "Resluts = Results.to('cpu')\n",
        "plt.figure(figsize=(16,24))\n",
        "grid_imgs = torchvision.utils.make_grid(Results[:24])\n",
        "grid_imgs = grid_imgs.to('cpu')\n",
        "np_grid_imgs = grid_imgs.detach().numpy()\n",
        "# in tensor, image is (batch, width, height), so you have to transpose it to (width, height, batch) in numpy to show it.\n",
        "plt.imshow(numpy.transpose(np_grid_imgs, (1,2,0)))"
      ],
      "execution_count": 16,
      "outputs": [
        {
          "output_type": "execute_result",
          "data": {
            "text/plain": [
              "<matplotlib.image.AxesImage at 0x7f39040c44a8>"
            ]
          },
          "metadata": {
            "tags": []
          },
          "execution_count": 16
        },
        {
          "output_type": "display_data",
          "data": {
            "image/png": "[encoded data removed]",
            "text/plain": [
              "<Figure size 1152x1728 with 1 Axes>"
            ]
          },
          "metadata": {
            "tags": [],
            "needs_background": "light"
          }
        }
      ]
    },
    {
      "cell_type": "code",
      "metadata": {
        "id": "BGWMh6ZqZXTe",
        "colab_type": "code",
        "colab": {}
      },
      "source": [
        ""
      ],
      "execution_count": null,
      "outputs": []
    }
  ]
}